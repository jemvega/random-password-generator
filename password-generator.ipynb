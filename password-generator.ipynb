{
 "cells": [
  {
   "cell_type": "code",
   "execution_count": null,
   "metadata": {},
   "outputs": [],
   "source": []
  },
  {
   "cell_type": "code",
   "execution_count": 1,
   "metadata": {},
   "outputs": [],
   "source": [
    "import random\n",
    "import itertools\n",
    "import timeit"
   ]
  },
  {
   "cell_type": "code",
   "execution_count": null,
   "metadata": {},
   "outputs": [],
   "source": [
    "print(\"\"\"Rules: Your password must have at least one of the following:\n",
    "      -An upper case letter, \n",
    "      -A lower case letter,\n",
    "      -A number, \n",
    "      -A special character.\"\"\")"
   ]
  },
  {
   "cell_type": "code",
   "execution_count": 2,
   "metadata": {},
   "outputs": [],
   "source": [
    "def password_length():\n",
    "    while True:\n",
    "        pw_length = input(\"\\nHow long do you want your password to be?\\n \")\n",
    "        if pw_length.isdigit():\n",
    "            if 8 <= int(pw_length) <= 94:\n",
    "                print(f\"Thank you. Your password length is {pw_length}.\")\n",
    "                pw_length = int(pw_length)\n",
    "                return pw_length\n",
    "                break\n",
    "            else: \n",
    "                print(\"\"\"\\tI'm sorry. Your password must be a \n",
    "                minimum of 8 characters and a maximum of 94 characters \n",
    "                (All ASCII printable characters except space)\"\"\")\n",
    "                continue\n",
    "        else:\n",
    "            print(\"\"\"\\tI'm sorry. Your password must be a \n",
    "            minimum of 8 characters and a maximum of 94 characters \n",
    "            (All ASCII printable characters except space)\"\"\")\n",
    "            continue"
   ]
  },
  {
   "cell_type": "code",
   "execution_count": 3,
   "metadata": {},
   "outputs": [],
   "source": [
    "def choose_upper():\n",
    "    while True:\n",
    "        q2 = input(\"\\nWould you like to include upper case letters? Y or N? \\n\")\n",
    "        if q2 == \"y\".lower():\n",
    "            while True:\n",
    "                num_upper = input(\"\\nHow many upper case letters would you like to have in your password?\\n\")\n",
    "                if num_upper.isdigit():\n",
    "                    if int(num_upper) <= 91:\n",
    "                        print(f\"Thank you. You will have {num_upper} uppercase letter(s) in your password.\")\n",
    "                        num_upper = int(num_upper)\n",
    "                        return num_upper\n",
    "                        break\n",
    "                    else: \n",
    "                        print(f\"\"\"I'm sorry. Your password can only have\n",
    "                        maximum number of 91 upper case letters.\"\"\")\n",
    "                        continue\n",
    "                else: \n",
    "                    print(\"Invalid input. Please include a number less than 91.\")\n",
    "                    continue\n",
    "            break\n",
    "        elif q2 ==\"n\".lower():\n",
    "            break\n",
    "        else:\n",
    "            print(\"Invalid input. Please type Y or N. \")\n",
    "            continue"
   ]
  },
  {
   "cell_type": "code",
   "execution_count": 4,
   "metadata": {},
   "outputs": [],
   "source": [
    "def choose_special():\n",
    "    while True:\n",
    "        q4 = input(\"\\nWould you like to include special characters in your password? Y or N?\\n\")\n",
    "        if q4 == \"y\".lower():\n",
    "            while True:\n",
    "                num_special = input(\"\\nHow many special characters would you like to include in your password?\\n\")\n",
    "                if num_special.isdigit():\n",
    "                    if int(num_special) <= 91:\n",
    "                        print(f\"Thank you. You will have {num_special} special character(s) in your password.\")\n",
    "                        num_special = int(num_special)\n",
    "                        return num_special\n",
    "                        break\n",
    "                    else: \n",
    "                        print(f\"\"\"I'm sorry. Your password can only have\n",
    "                        maximum number of 91 special letters.\"\"\")\n",
    "                        continue\n",
    "                else: \n",
    "                    print(\"Invalid input. Please include a number less than 91.\")\n",
    "                    continue\n",
    "            break\n",
    "        elif q4 ==\"n\".lower():\n",
    "            break\n",
    "        else:\n",
    "            print(\"Invalid input. Please type Y or N. \")\n",
    "            continue"
   ]
  },
  {
   "cell_type": "code",
   "execution_count": 5,
   "metadata": {},
   "outputs": [],
   "source": [
    "def choose_digits():\n",
    "    while True:\n",
    "        q6 = input(\"\\nWould you like to include numbers in your password? Y or N?\\n\")\n",
    "        if q6 == \"y\".lower():\n",
    "            while True:\n",
    "                num_digits = input(\"\\nHow many numbers would you like to include in your password?\\n\")\n",
    "                if num_digits.isdigit():\n",
    "                    if int(num_digits) <= 91:\n",
    "                        print(f\"Thank you. You will have {num_digits} number(s) in your password.\")\n",
    "                        num_digits = int(num_digits)\n",
    "                        return num_digits\n",
    "                        break\n",
    "                    else: \n",
    "                        print(f\"\"\"I'm sorry. Your password can only have\n",
    "                        maximum number of 91 special letters.\"\"\")\n",
    "                        continue\n",
    "                else: \n",
    "                    print(\"Invalid input. Please include a number less than 91.\")\n",
    "                    continue\n",
    "            break\n",
    "        elif q6 ==\"n\".lower():\n",
    "            break\n",
    "        else:\n",
    "            print(\"Invalid input. Please type Y or N. \")\n",
    "            continue"
   ]
  },
  {
   "cell_type": "code",
   "execution_count": 6,
   "metadata": {},
   "outputs": [],
   "source": [
    "# Lists of characters for passwords\n",
    "letters = 'a b c d e f g h i j k l m n o p q r s t u v w x y z'\n",
    "lower_case = letters.split()\n",
    "upper_case = letters.upper().split()\n",
    "digits = \"0 1 2 3 4 5 6 7 8 9\".split()\n",
    "special = \"\"\"! \" # $ % & ' ( ) * + , - . / : ; < = > ? @ [ \\ ] ^ _ ` { | } ~\"\"\".split()\n",
    "characters_list = list(lower_case + upper_case + digits + special)"
   ]
  },
  {
   "cell_type": "code",
   "execution_count": 7,
   "metadata": {},
   "outputs": [],
   "source": [
    "def randomize_characters(characters):\n",
    "    random.shuffle(characters)\n",
    "\n",
    "# This function gets length of password and joins characters into a string. \n",
    "def print_password(random_char):\n",
    "    password_list = characters_list[:pw_length]\n",
    "    password = \"\".join(password_list)\n",
    "    return password"
   ]
  },
  {
   "cell_type": "code",
   "execution_count": 8,
   "metadata": {},
   "outputs": [
    {
     "name": "stdout",
     "output_type": "stream",
     "text": [
      "\n",
      "How long do you want your password to be?\n",
      " 10\n",
      "Thank you. Your password length is 10.\n",
      "\n",
      "Would you like to include upper case letters? Y or N? \n",
      "y\n",
      "\n",
      "How many upper case letters would you like to have in your password?\n",
      "1\n",
      "Thank you. You will have 1 uppercase letter(s) in your password.\n",
      "\n",
      "Would you like to include special characters in your password? Y or N?\n",
      "y\n",
      "\n",
      "How many special characters would you like to include in your password?\n",
      "1\n",
      "Thank you. You will have 1 special character(s) in your password.\n",
      "\n",
      "Would you like to include numbers in your password? Y or N?\n",
      "y\n",
      "\n",
      "How many numbers would you like to include in your password?\n",
      "1\n",
      "Thank you. You will have 1 number(s) in your password.\n"
     ]
    }
   ],
   "source": [
    "# User input functions: password length\n",
    "pw_length = password_length()\n",
    "num_upper = choose_upper()\n",
    "num_special = choose_special()\n",
    "num_digits = choose_digits()"
   ]
  },
  {
   "cell_type": "code",
   "execution_count": 9,
   "metadata": {},
   "outputs": [
    {
     "data": {
      "text/plain": [
       "1"
      ]
     },
     "execution_count": 9,
     "metadata": {},
     "output_type": "execute_result"
    }
   ],
   "source": [
    "num_upper"
   ]
  },
  {
   "cell_type": "code",
   "execution_count": 10,
   "metadata": {},
   "outputs": [
    {
     "data": {
      "text/plain": [
       "1"
      ]
     },
     "execution_count": 10,
     "metadata": {},
     "output_type": "execute_result"
    }
   ],
   "source": [
    "num_special"
   ]
  },
  {
   "cell_type": "code",
   "execution_count": 11,
   "metadata": {},
   "outputs": [
    {
     "data": {
      "text/plain": [
       "1"
      ]
     },
     "execution_count": 11,
     "metadata": {},
     "output_type": "execute_result"
    }
   ],
   "source": [
    "num_digits"
   ]
  },
  {
   "cell_type": "code",
   "execution_count": null,
   "metadata": {},
   "outputs": [],
   "source": [
    "\"\"\"\n",
    "New password generator process\n",
    "take user input for letters, digits, special\n",
    "randomize the lists individually\n",
    "splice the first elements using user inputs\n",
    "then combine them into character_list\n",
    "\n",
    "\n",
    "\"\"\""
   ]
  },
  {
   "cell_type": "code",
   "execution_count": 23,
   "metadata": {},
   "outputs": [],
   "source": [
    "def characters_generator(num_upper, num_special, num_digits):\n",
    "    randomize_characters(lower_case)\n",
    "    randomize_characters(upper_case)\n",
    "    randomize_characters(special)\n",
    "    randomize_characters(digits)\n",
    "    \n",
    "    upper_slice = upper_case[:num_upper]\n",
    "    special_slice = special[:num_special]\n",
    "    digits_slice = digits[:num_digits]\n",
    "    \n",
    "    characters_list = list(lower_case + upper_slice + special_slice + digits_slice)\n",
    "    return characters_list"
   ]
  },
  {
   "cell_type": "code",
   "execution_count": 26,
   "metadata": {},
   "outputs": [],
   "source": [
    "characters_list = characters_generator(num_upper, num_special, num_digits)"
   ]
  },
  {
   "cell_type": "code",
   "execution_count": 49,
   "metadata": {},
   "outputs": [],
   "source": [
    "password = []\n",
    "def password_generator():\n",
    "    while len(password) < pw_length:\n",
    "        try:\n",
    "            characters_list = characters_generator(num_upper, num_special, num_digits)\n",
    "            randomize_characters(characters_list)\n",
    "            variable = characters_list.pop()\n",
    "            password.append(variable)\n",
    "            characters_list.append(variable)\n",
    "            return password\n",
    "        except: \n",
    "            print(\"There's an error!\")"
   ]
  },
  {
   "cell_type": "code",
   "execution_count": 60,
   "metadata": {},
   "outputs": [],
   "source": [
    "password_generator()"
   ]
  },
  {
   "cell_type": "code",
   "execution_count": 48,
   "metadata": {},
   "outputs": [],
   "source": [
    "characters_list = character_generator(num_upper, num_special, num_digits)"
   ]
  },
  {
   "cell_type": "code",
   "execution_count": 49,
   "metadata": {},
   "outputs": [],
   "source": [
    "variable = characters_list.pop()"
   ]
  },
  {
   "cell_type": "code",
   "execution_count": 50,
   "metadata": {},
   "outputs": [
    {
     "data": {
      "text/plain": [
       "'3'"
      ]
     },
     "execution_count": 50,
     "metadata": {},
     "output_type": "execute_result"
    }
   ],
   "source": [
    "variable"
   ]
  },
  {
   "cell_type": "code",
   "execution_count": 55,
   "metadata": {},
   "outputs": [],
   "source": [
    "password = []"
   ]
  },
  {
   "cell_type": "code",
   "execution_count": 60,
   "metadata": {},
   "outputs": [],
   "source": [
    "password.append(variable)"
   ]
  },
  {
   "cell_type": "code",
   "execution_count": 61,
   "metadata": {},
   "outputs": [
    {
     "data": {
      "text/plain": [
       "['3', '3', '3']"
      ]
     },
     "execution_count": 61,
     "metadata": {},
     "output_type": "execute_result"
    }
   ],
   "source": [
    "password"
   ]
  },
  {
   "cell_type": "code",
   "execution_count": 38,
   "metadata": {},
   "outputs": [
    {
     "data": {
      "text/plain": [
       "['q',\n",
       " 'k',\n",
       " 'y',\n",
       " 'h',\n",
       " 'u',\n",
       " 'j',\n",
       " 'z',\n",
       " 'd',\n",
       " 'f',\n",
       " 'x',\n",
       " 'n',\n",
       " 'w',\n",
       " 'e',\n",
       " 'c',\n",
       " 's',\n",
       " 'i',\n",
       " 'l',\n",
       " 'o',\n",
       " 'v',\n",
       " 'r',\n",
       " 't',\n",
       " 'm',\n",
       " 'a',\n",
       " 'p',\n",
       " 'g',\n",
       " 'b',\n",
       " 'O',\n",
       " ']',\n",
       " '9']"
      ]
     },
     "execution_count": 38,
     "metadata": {},
     "output_type": "execute_result"
    }
   ],
   "source": [
    "characters_list"
   ]
  },
  {
   "cell_type": "code",
   "execution_count": null,
   "metadata": {},
   "outputs": [],
   "source": []
  },
  {
   "cell_type": "code",
   "execution_count": null,
   "metadata": {},
   "outputs": [],
   "source": []
  },
  {
   "cell_type": "code",
   "execution_count": null,
   "metadata": {},
   "outputs": [],
   "source": [
    "# Lists of characters for passwords\n",
    "letters = 'a b c d e f g h i j k l m n o p q r s t u v w x y z'\n",
    "lower_case = letters.split()\n",
    "upper_case = letters.upper().split()\n",
    "digits = \"0 1 2 3 4 5 6 7 8 9\".split()\n",
    "special = \"\"\"! \" # $ % & ' ( ) * + , - . / : ; < = > ? @ [ \\ ] ^ _ ` { | } ~\"\"\".split()\n",
    "characters_list = list(lower_case + upper_case + digits + special)\n",
    "\n",
    "random.shuffle(characters_list)\n",
    "\n",
    "characters_list\n",
    "\n",
    "# Shuffle characters_list and set as a new variable\n",
    "randomize_characters(characters_list)\n",
    "random_char = characters_list\n",
    "\n",
    "print(random_char)"
   ]
  },
  {
   "cell_type": "code",
   "execution_count": 17,
   "metadata": {},
   "outputs": [
    {
     "name": "stdout",
     "output_type": "stream",
     "text": [
      "\n",
      "How long do you want your password to be?\n",
      " 10\n",
      "Thank you. Your password length is 10.\n",
      "\n",
      "Would you like to include upper case letters? Y or N? \n",
      "y\n",
      "\n",
      "How many upper case letters would you like to have in your password?\n",
      "1\n",
      "Thank you. You will have 1 uppercase letters in your password.\n",
      "\n",
      "Would you like to include special characters in your password? Y or N?\n",
      "y\n",
      "\n",
      "How many special characters would you like to include in your password?\n",
      "1\n",
      "Thank you. You will have 1 special characters in your password.\n",
      "\n",
      "Would you like to include numbers in your password? Y or N?\n",
      "y\n",
      "\n",
      "How many numbers would you like to include in your password?\n",
      "1\n",
      "Thank you. You will have 1 numbers in your password.\n"
     ]
    }
   ],
   "source": []
  },
  {
   "cell_type": "code",
   "execution_count": 21,
   "metadata": {},
   "outputs": [
    {
     "name": "stdout",
     "output_type": "stream",
     "text": [
      "o1}=NE!Qge\n"
     ]
    }
   ],
   "source": [
    "password = print_password(random_char)\n",
    "print(password)"
   ]
  },
  {
   "cell_type": "code",
   "execution_count": 22,
   "metadata": {},
   "outputs": [
    {
     "data": {
      "text/plain": [
       "10"
      ]
     },
     "execution_count": 22,
     "metadata": {},
     "output_type": "execute_result"
    }
   ],
   "source": [
    "len(password)"
   ]
  },
  {
   "cell_type": "code",
   "execution_count": 23,
   "metadata": {},
   "outputs": [
    {
     "ename": "NameError",
     "evalue": "name 'new' is not defined",
     "output_type": "error",
     "traceback": [
      "\u001b[1;31m---------------------------------------------------------------------------\u001b[0m",
      "\u001b[1;31mNameError\u001b[0m                                 Traceback (most recent call last)",
      "\u001b[1;32m<ipython-input-23-389cc6b7ae5a>\u001b[0m in \u001b[0;36m<module>\u001b[1;34m\u001b[0m\n\u001b[1;32m----> 1\u001b[1;33m \u001b[0mnew\u001b[0m\u001b[1;33m\u001b[0m\u001b[1;33m\u001b[0m\u001b[0m\n\u001b[0m",
      "\u001b[1;31mNameError\u001b[0m: name 'new' is not defined"
     ]
    }
   ],
   "source": [
    "new"
   ]
  },
  {
   "cell_type": "code",
   "execution_count": 24,
   "metadata": {},
   "outputs": [
    {
     "ename": "NameError",
     "evalue": "name 'new' is not defined",
     "output_type": "error",
     "traceback": [
      "\u001b[1;31m---------------------------------------------------------------------------\u001b[0m",
      "\u001b[1;31mNameError\u001b[0m                                 Traceback (most recent call last)",
      "\u001b[1;32m<ipython-input-24-a5979d1b7ed6>\u001b[0m in \u001b[0;36m<module>\u001b[1;34m\u001b[0m\n\u001b[1;32m----> 1\u001b[1;33m \u001b[0mpassword\u001b[0m \u001b[1;33m=\u001b[0m \u001b[1;34m\"\"\u001b[0m\u001b[1;33m.\u001b[0m\u001b[0mjoin\u001b[0m\u001b[1;33m(\u001b[0m\u001b[0mnew\u001b[0m\u001b[1;33m)\u001b[0m\u001b[1;33m\u001b[0m\u001b[1;33m\u001b[0m\u001b[0m\n\u001b[0m",
      "\u001b[1;31mNameError\u001b[0m: name 'new' is not defined"
     ]
    }
   ],
   "source": [
    "password = \"\".join(new)"
   ]
  },
  {
   "cell_type": "code",
   "execution_count": 25,
   "metadata": {},
   "outputs": [
    {
     "name": "stdout",
     "output_type": "stream",
     "text": [
      "o1}=NE!Qge\n"
     ]
    }
   ],
   "source": [
    "print(password)"
   ]
  },
  {
   "cell_type": "code",
   "execution_count": 48,
   "metadata": {},
   "outputs": [
    {
     "data": {
      "text/plain": [
       "True"
      ]
     },
     "execution_count": 48,
     "metadata": {},
     "output_type": "execute_result"
    }
   ],
   "source": [
    "any(i in password for i in characters)"
   ]
  },
  {
   "cell_type": "code",
   "execution_count": 49,
   "metadata": {},
   "outputs": [
    {
     "data": {
      "text/plain": [
       "['/', ',', '-', 'u', '\"', 'J', 'v', 'P', 'm']"
      ]
     },
     "execution_count": 49,
     "metadata": {},
     "output_type": "execute_result"
    }
   ],
   "source": [
    "[i for i in password if i in characters]"
   ]
  },
  {
   "cell_type": "code",
   "execution_count": 50,
   "metadata": {},
   "outputs": [
    {
     "data": {
      "text/plain": [
       "{'\"', ',', '-', '/', 'J', 'P', 'm', 'u', 'v'}"
      ]
     },
     "execution_count": 50,
     "metadata": {},
     "output_type": "execute_result"
    }
   ],
   "source": [
    "s1 = set(password)\n",
    "s2 = set(characters)\n",
    "s1.intersection(s2)"
   ]
  },
  {
   "cell_type": "code",
   "execution_count": 57,
   "metadata": {},
   "outputs": [],
   "source": [
    "test = \"1 3 5 g a 7 J P $ @ ) *\".replace(\" \", \"\")"
   ]
  },
  {
   "cell_type": "code",
   "execution_count": 58,
   "metadata": {},
   "outputs": [
    {
     "name": "stdout",
     "output_type": "stream",
     "text": [
      "135ga7JP$@)*\n"
     ]
    }
   ],
   "source": [
    "print(test)"
   ]
  },
  {
   "cell_type": "code",
   "execution_count": 60,
   "metadata": {},
   "outputs": [],
   "source": [
    "intersection = [i for i in password if i in test]"
   ]
  },
  {
   "cell_type": "code",
   "execution_count": 62,
   "metadata": {},
   "outputs": [
    {
     "data": {
      "text/plain": [
       "2"
      ]
     },
     "execution_count": 62,
     "metadata": {},
     "output_type": "execute_result"
    }
   ],
   "source": [
    "len(intersection)"
   ]
  },
  {
   "cell_type": "code",
   "execution_count": 63,
   "metadata": {},
   "outputs": [
    {
     "data": {
      "text/plain": [
       "'P'"
      ]
     },
     "execution_count": 63,
     "metadata": {},
     "output_type": "execute_result"
    }
   ],
   "source": [
    "intersection.pop()"
   ]
  },
  {
   "cell_type": "code",
   "execution_count": 64,
   "metadata": {},
   "outputs": [
    {
     "data": {
      "text/plain": [
       "['J']"
      ]
     },
     "execution_count": 64,
     "metadata": {},
     "output_type": "execute_result"
    }
   ],
   "source": [
    "intersection"
   ]
  },
  {
   "cell_type": "code",
   "execution_count": null,
   "metadata": {},
   "outputs": [],
   "source": [
    "#while length of intersection is less than user input, pop"
   ]
  },
  {
   "cell_type": "code",
   "execution_count": null,
   "metadata": {},
   "outputs": [],
   "source": [
    "# append characters from randomize characters. "
   ]
  },
  {
   "cell_type": "code",
   "execution_count": null,
   "metadata": {},
   "outputs": [],
   "source": [
    "mylist = mylist[2:-2] and del mylist[:2];del mylist[-2:]"
   ]
  },
  {
   "cell_type": "code",
   "execution_count": null,
   "metadata": {},
   "outputs": [],
   "source": [
    "# Create a function that checks password with user input (upper)"
   ]
  },
  {
   "cell_type": "code",
   "execution_count": null,
   "metadata": {},
   "outputs": [],
   "source": [
    "# Create a function that checks password with user input (numbers)"
   ]
  },
  {
   "cell_type": "code",
   "execution_count": null,
   "metadata": {},
   "outputs": [],
   "source": [
    "# Create a function that checks password with user input (special)"
   ]
  },
  {
   "cell_type": "code",
   "execution_count": null,
   "metadata": {},
   "outputs": [],
   "source": [
    "# Create a function that allows for repeat characters"
   ]
  },
  {
   "cell_type": "code",
   "execution_count": 107,
   "metadata": {},
   "outputs": [
    {
     "name": "stdout",
     "output_type": "stream",
     "text": [
      "['/', 'W', 't', 'd', 'u', 'R', 'U', 'Y', '?', 'l', 'G', 'V', 'j', 'Q', 'Z', 'K', '2', 'y', 'L', '(', 'v', '}', '\"', 'A', '[', ':', '1', 'g', 'o', 'N', 'e', 'a', 'C', '9', 'E', '\\\\', 'b', '@', '6', '%', 'S', 'B', ')', '0', 'P', '*', 'x', 'r', '>', 'H', 'I', 'J', '`', 'i', '&', 'w', 'T', 'n', ']', '=', 'M', 'f', \"'\", 'c', '8', 'D', 'F', '#', '3', 'k', '5', '7', '~', 'p', ',', '-', '^', '{', 'h', '$', '|', '.', '4', 'O', ';', 'm', '!', 'z', 'X', '<', 'q', '_', 's', '+']\n"
     ]
    }
   ],
   "source": [
    "print(random_char)"
   ]
  },
  {
   "cell_type": "code",
   "execution_count": null,
   "metadata": {},
   "outputs": [],
   "source": [
    "code_to_test = \"\"\"\n",
    "a = range(100000)\n",
    "b = []\n",
    "for i in a:\n",
    "    b.append(i*2)\n",
    "\"\"\"\n",
    "elapsed_time = timeit.timeit(code_to_test, number=100)/100\n",
    "print(elapsed_time)"
   ]
  },
  {
   "cell_type": "code",
   "execution_count": null,
   "metadata": {},
   "outputs": [],
   "source": [
    "\"\"\"\n",
    "New password generator process\n",
    "take user input for letters, digits, special\n",
    "randomize the lists individually\n",
    "splice the first elements using user inputs\n",
    "then combine them into character_list\n",
    "\n",
    "\n",
    "\"\"\""
   ]
  },
  {
   "cell_type": "code",
   "execution_count": null,
   "metadata": {},
   "outputs": [],
   "source": []
  },
  {
   "cell_type": "code",
   "execution_count": null,
   "metadata": {},
   "outputs": [],
   "source": [
    "\"\"\"\n",
    "new process for repeat characters\n",
    "pop\n",
    "shuffle\n",
    "append\n",
    "repeat\n",
    "\n",
    "\"\"\""
   ]
  },
  {
   "cell_type": "code",
   "execution_count": 1,
   "metadata": {},
   "outputs": [
    {
     "ename": "SyntaxError",
     "evalue": "invalid syntax (<ipython-input-1-520ef00db14e>, line 7)",
     "output_type": "error",
     "traceback": [
      "\u001b[1;36m  File \u001b[1;32m\"<ipython-input-1-520ef00db14e>\"\u001b[1;36m, line \u001b[1;32m7\u001b[0m\n\u001b[1;33m    else:\u001b[0m\n\u001b[1;37m       ^\u001b[0m\n\u001b[1;31mSyntaxError\u001b[0m\u001b[1;31m:\u001b[0m invalid syntax\n"
     ]
    }
   ],
   "source": [
    "while len(password) < len(pw_length):\n",
    "    try:\n",
    "        randomize_characters(character_list)\n",
    "        variable = character_list.pop()\n",
    "        password = password + variable\n",
    "        character_list.append(variable)\n",
    "    except: \n",
    "        print(\"There's an error!\")"
   ]
  },
  {
   "cell_type": "code",
   "execution_count": null,
   "metadata": {},
   "outputs": [],
   "source": []
  },
  {
   "cell_type": "code",
   "execution_count": null,
   "metadata": {},
   "outputs": [],
   "source": []
  },
  {
   "cell_type": "code",
   "execution_count": null,
   "metadata": {},
   "outputs": [],
   "source": []
  }
 ],
 "metadata": {
  "kernelspec": {
   "display_name": "Python 3",
   "language": "python",
   "name": "python3"
  },
  "language_info": {
   "codemirror_mode": {
    "name": "ipython",
    "version": 3
   },
   "file_extension": ".py",
   "mimetype": "text/x-python",
   "name": "python",
   "nbconvert_exporter": "python",
   "pygments_lexer": "ipython3",
   "version": "3.7.1"
  }
 },
 "nbformat": 4,
 "nbformat_minor": 2
}
