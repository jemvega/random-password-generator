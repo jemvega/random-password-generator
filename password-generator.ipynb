{
 "cells": [
  {
   "cell_type": "code",
   "execution_count": null,
   "metadata": {},
   "outputs": [],
   "source": [
    "\"\"\"\n",
    "Need to create a function which checks the num_upper, num_special, num_digits against pw_length, \n",
    "maximum number of characters for password, and the minimum requirements for logic \n",
    "of program to work. \"\"\"`"
   ]
  },
  {
   "cell_type": "code",
   "execution_count": null,
   "metadata": {},
   "outputs": [],
   "source": [
    "\"\"\"\n",
    "Bug: Need to add a function that checks for the lower case letters.\n",
    "\n",
    "Fix:    \n",
    "\"\"\""
   ]
  },
  {
   "cell_type": "code",
   "execution_count": null,
   "metadata": {},
   "outputs": [],
   "source": [
    "\"\"\"\n",
    "Bug: Program does not fill in the password to specific user inputs\n",
    "    when the input is of large numbers and the password length is 94. \n",
    "\n",
    "Fix: The only way I can think of fixing this right now is to extend the \n",
    "character sets by reapeating the characters until the sets themselves\n",
    "have a minimum of 94 characters.\"\"\""
   ]
  },
  {
   "cell_type": "code",
   "execution_count": null,
   "metadata": {},
   "outputs": [],
   "source": [
    "print(\"\"\"Rules: Your password must have at least one of the following:\n",
    "      -An upper case letter, \n",
    "      -A lower case letter,\n",
    "      -A number, \n",
    "      -A special character.\"\"\")"
   ]
  },
  {
   "cell_type": "code",
   "execution_count": 142,
   "metadata": {},
   "outputs": [],
   "source": [
    "import random\n",
    "\n",
    "def password_length():\n",
    "    while True:\n",
    "        pw_length = input(\"\\nHow long do you want your password to be?\\n \")\n",
    "        if pw_length.isdigit():\n",
    "            if 8 <= int(pw_length) <= 94:\n",
    "                print(f\"Thank you. Your password length is {pw_length}.\")\n",
    "                pw_length = int(pw_length)\n",
    "                return pw_length\n",
    "                break\n",
    "            else: \n",
    "                print(\"\"\"\\tI'm sorry. Your password must be a \n",
    "                minimum of 8 characters and a maximum of 94 characters \n",
    "                (All ASCII printable characters except space)\"\"\")\n",
    "                continue\n",
    "        else:\n",
    "            print(\"\"\"\\tI'm sorry. Your password must be a \n",
    "            minimum of 8 characters and a maximum of 94 characters \n",
    "            (All ASCII printable characters except space)\"\"\")\n",
    "            continue"
   ]
  },
  {
   "cell_type": "code",
   "execution_count": 143,
   "metadata": {},
   "outputs": [],
   "source": [
    "def choose_lower():\n",
    "    while True:\n",
    "        num_lower = input(\"\\nHow many lower case letters would you like to have in your password?\\n\")\n",
    "        if 1 <= num_lower.isdigit():\n",
    "            if int(num_lower) <= 91:\n",
    "                print(f\"Thank you. You will have {num_lower} lower case letter(s) in your password.\")\n",
    "                num_lower = int(num_lower)\n",
    "                return num_lower\n",
    "                break\n",
    "            else: \n",
    "                print(f\"\"\"I'm sorry. Your password must have at least 1 lower\n",
    "                case letter and a maximum of 91 lower case letters.\"\"\")\n",
    "            continue\n",
    "        else: \n",
    "            print(\"\"\"Invalid input. Please include a number that is greater \n",
    "            than 1 and less than 91 inclusive.\"\"\")\n",
    "            continue"
   ]
  },
  {
   "cell_type": "code",
   "execution_count": 144,
   "metadata": {},
   "outputs": [],
   "source": [
    "def choose_upper():\n",
    "    while True:\n",
    "        num_upper = input(\"\\nHow many upper case letters would you like to have in your password?\\n\")\n",
    "        if 1 <= num_upper.isdigit():\n",
    "            if int(num_upper) <= 91:\n",
    "                print(f\"Thank you. You will have {num_upper} uppercase letter(s) in your password.\")\n",
    "                num_upper = int(num_upper)\n",
    "                return num_upper\n",
    "                break\n",
    "            else: \n",
    "                print(f\"\"\"I'm sorry. Your password must have at least 1 upper\n",
    "                case letter and a maximum of 91 upper case letters.\"\"\")\n",
    "            continue\n",
    "        else: \n",
    "            print(\"\"\"Invalid input. Please include a number that is greater \n",
    "            than 1 and less than 91 inclusive.\"\"\")\n",
    "            continue"
   ]
  },
  {
   "cell_type": "code",
   "execution_count": 145,
   "metadata": {},
   "outputs": [],
   "source": [
    "def choose_special():\n",
    "    while True:\n",
    "        num_special = input(\"\\nHow many special characters would you like to include in your password?\\n\")\n",
    "        if num_special.isdigit():\n",
    "            if 1 <= int(num_special) <= 91:\n",
    "                print(f\"Thank you. You will have {num_special} special character(s) in your password.\")\n",
    "                num_special = int(num_special)\n",
    "                return num_special\n",
    "                break\n",
    "            else: \n",
    "                  print(f\"\"\"I'm sorry. Your password must have at least 1 \n",
    "                  special character and a maximum of 91 special characters.\"\"\")\n",
    "            continue\n",
    "        else: \n",
    "            print(\"\"\"Invalid input. Please include a number that is greater \n",
    "            than 1 and less than 91 inclusive.\"\"\")\n",
    "            continue"
   ]
  },
  {
   "cell_type": "code",
   "execution_count": 146,
   "metadata": {},
   "outputs": [],
   "source": [
    "def choose_digits():\n",
    "    while True:\n",
    "        num_digits = input(\"\\nHow many numbers would you like to include in your password?\\n\")\n",
    "        if num_digits.isdigit():\n",
    "            if 1 <= int(num_digits) <= 91:\n",
    "                print(f\"Thank you. You will have {num_digits} number(s) in your password.\")\n",
    "                num_digits = int(num_digits)\n",
    "                return num_digits\n",
    "                break\n",
    "            else: \n",
    "                print(f\"\"\"I'm sorry. Your password must have at least 1 number\n",
    "                and a maximum of 91 special numbers.\"\"\")\n",
    "            continue\n",
    "        else: \n",
    "            print(\"\"\"Invalid input. Please include a number that is greater \n",
    "            than 1 and less than 91 inclusive.\"\"\")\n",
    "            continue"
   ]
  },
  {
   "cell_type": "code",
   "execution_count": 147,
   "metadata": {},
   "outputs": [],
   "source": [
    "# This function checks to see if the user inputs will allow \n",
    "# the logic of this program to work while meeting the\n",
    "# requirements.\n",
    "def check_user_inputs(pw_length, num_lower, num_upper, num_special, num_digits):\n",
    "    sum_pw_char = num_lower + num_upper + num_special + num_digits \n",
    "    if sum_pw_char == pw_length:\n",
    "        if 8 <= sum_pw_char <= 94:\n",
    "            print(\"Thank you for your inputs. Your password will be generated shortly.\")\n",
    "        else:\n",
    "            print(\"\"\"I'm sorry. There was an error with your inputs.\n",
    "                  Please make sure that the number of lower case letters, \n",
    "                  upper case letters, special characters, and numbers are \n",
    "                  between 8 and 94 inclusive and that your password \n",
    "                  is a minimum of 8 characters long. These are the \n",
    "                  minimum requirements for a safe password.\"\"\")\n",
    "    else:\n",
    "        print(\"\"\"I'm sorry. There was an error with your inputs. \n",
    "        The number of lower case letters, upper case letters, \n",
    "        special characters, and numbers in your password must \n",
    "        be equal to the length of your password.\"\"\")"
   ]
  },
  {
   "cell_type": "code",
   "execution_count": 148,
   "metadata": {},
   "outputs": [],
   "source": [
    "# A function to randomize characters. \n",
    "def randomize_characters(characters):\n",
    "    random.shuffle(characters)"
   ]
  },
  {
   "cell_type": "code",
   "execution_count": 149,
   "metadata": {},
   "outputs": [],
   "source": [
    "def characters_generator(num_upper, num_special, num_digits):\n",
    "    randomize_characters(lower_case)\n",
    "    randomize_characters(upper_case)\n",
    "    randomize_characters(special)\n",
    "    randomize_characters(digits)\n",
    "    \n",
    "    upper_slice = upper_case[:num_upper]\n",
    "    special_slice = special[:num_special]\n",
    "    digits_slice = digits[:num_digits]\n",
    "    \n",
    "    characters_list = list(lower_case + upper_slice + special_slice + digits_slice)\n",
    "    return characters_list"
   ]
  },
  {
   "cell_type": "code",
   "execution_count": 150,
   "metadata": {},
   "outputs": [],
   "source": [
    "def preliminary_password():\n",
    "    while True:\n",
    "        if len(prelim_password_list) < pw_length:\n",
    "            try:\n",
    "                characters_list = characters_generator(num_upper, num_special, num_digits)\n",
    "                randomize_characters(characters_list)\n",
    "                variable = characters_list.pop()\n",
    "                prelim_password_list.append(variable)\n",
    "                characters_list.append(variable)\n",
    "                return prelim_password_list\n",
    "            except: \n",
    "                print(\"There's an error in preliminary_password!\")\n",
    "                break\n",
    "        else:\n",
    "            print(f\"\"\"Error preliminary_password:\n",
    "                  You limited your password to {pw_length} characters!\"\"\")\n",
    "            break"
   ]
  },
  {
   "cell_type": "code",
   "execution_count": 151,
   "metadata": {},
   "outputs": [],
   "source": [
    "def generate_prelim_password(prelim_password_list):\n",
    "    while True:\n",
    "        if len(prelim_password_list) < pw_length:\n",
    "            try:\n",
    "                for i in range(0, pw_length):\n",
    "                    prelim_password_list = preliminary_password()\n",
    "                return prelim_password_list\n",
    "            except:\n",
    "                print(\"There's an error in generate_prelim_password!\")\n",
    "                break\n",
    "        else: \n",
    "            print(f\"\"\"Error generate_prelim_password: \n",
    "                You limited your password to {pw_length} characters!\"\"\")\n",
    "            break"
   ]
  },
  {
   "cell_type": "code",
   "execution_count": 152,
   "metadata": {},
   "outputs": [],
   "source": [
    "# editing copy\n",
    "def password_character_check(characters_set, num_characters, prelim_password_list):\n",
    "    # Note: characters_set <=> upper_case, special, or digits\n",
    "    # Note: num_characters <=> num_upper, num_special, num_digits\n",
    "    # Note: prelim_password_list <=> prelim_password_list from generate_prelim_password\n",
    "    \n",
    "    \n",
    "    # Find the number of extra characters in prelim_password_list\n",
    "    intersection_char = [char for char in prelim_password_list if char in characters_set]\n",
    "    length_intersect_char = len(intersection_char)\n",
    "    difference_char = abs(length_intersect_char - num_upper)\n",
    "    intersection_lower = [char for char in prelim_password_list if char in lower_case]\n",
    "    \n",
    "    if length_intersect_char < num_characters: # Check against user input\n",
    "        randomize_characters(characters_set) \n",
    "        prelim_password_list.extend(characters_set[:difference_char]) # Add extra char to prelim_password_list\n",
    "        extra_lower = intersection_lower[:difference_char] # Find extra lower case characters\n",
    "        for char in extra_lower:\n",
    "            prelim_password_list.remove(char) # Remove extra lower case characters\n",
    "        print(\"Added characters! Removed lower case letters!\")\n",
    "        return prelim_password_list\n",
    "    elif length_intersect_char > num_characters:  # Check against user input\n",
    "        randomize_characters(lower_case)\n",
    "        extra_char = intersection_char[num_characters:] # Find extra characters\n",
    "        for char in extra_char:\n",
    "            prelim_password_list.remove(char) # Remove extra characters\n",
    "        prelim_password_list.extend(lower_case[:difference_char]) # Add extra lower case to prelim_password_list\n",
    "        print(\"Removed characters! Added lower case letters!\")\n",
    "        return prelim_password_list\n",
    "    else:\n",
    "        pass"
   ]
  },
  {
   "cell_type": "code",
   "execution_count": 153,
   "metadata": {},
   "outputs": [],
   "source": [
    "# This function gets length of password and joins characters into a string. \n",
    "def password_string(prelim_password_list):\n",
    "    new_password = \"\".join(prelim_password_list)\n",
    "    return new_password"
   ]
  },
  {
   "cell_type": "code",
   "execution_count": 154,
   "metadata": {},
   "outputs": [],
   "source": [
    "# editing copy\n",
    "def password_character_check(characters_set, num_characters, prelim_password_list):\n",
    "    # Note: characters_set <=> upper_case, special, or digits\n",
    "    # Note: num_characters <=> num_upper, num_special, num_digits\n",
    "    # Note: prelim_password_list <=> prelim_password_list from generate_prelim_password\n",
    "    \n",
    "    \n",
    "    # Find the number of extra characters in prelim_password_list\n",
    "    intersection_char = [char for char in prelim_password_list if char in characters_set]\n",
    "    length_intersect_char = len(intersection_char)\n",
    "    difference_char = abs(length_intersect_char - num_upper)\n",
    "    intersection_lower = [char for char in prelim_password_list if char in lower_case]\n",
    "    \n",
    "    if length_intersect_char < num_characters: # Check against user input\n",
    "        randomize_characters(characters_set) \n",
    "        prelim_password_list.extend(characters_set[:difference_char]) # Add extra char to prelim_password_list\n",
    "        extra_lower = intersection_lower[:difference_char] # Find extra lower case characters\n",
    "        for char in extra_lower:\n",
    "            prelim_password_list.remove(char) # Remove extra lower case characters\n",
    "        return prelim_password_list\n",
    "    elif length_intersect_char > num_characters:  # Check against user input\n",
    "        randomize_characters(lower_case)\n",
    "        extra_char = intersection_char[num_characters:] # Find extra characters\n",
    "        for char in extra_char:\n",
    "            prelim_password_list.remove(char) # Remove extra characters\n",
    "        prelim_password_list.extend(lower_case[:difference_char]) # Add extra lower case to prelim_password_list\n",
    "        return prelim_password_list\n",
    "    else:\n",
    "        pass"
   ]
  },
  {
   "cell_type": "code",
   "execution_count": 155,
   "metadata": {},
   "outputs": [],
   "source": [
    "# Lists of characters for passwords\n",
    "letters = 'a b c d e f g h i j k l m n o p q r s t u v w x y z'\n",
    "lower_case = letters.split()\n",
    "upper_case = letters.upper().split()\n",
    "digits = \"0 1 2 3 4 5 6 7 8 9\".split()\n",
    "special = \"\"\"! \" # $ % & ' ( ) * + , - . / : ; < = > ? @ [ \\ ] ^ _ ` { | } ~\"\"\".split()\n",
    "characters_list = list(lower_case + upper_case + digits + special)"
   ]
  },
  {
   "cell_type": "code",
   "execution_count": 157,
   "metadata": {},
   "outputs": [
    {
     "name": "stdout",
     "output_type": "stream",
     "text": [
      "\n",
      "How long do you want your password to be?\n",
      " 94\n",
      "Thank you. Your password length is 94.\n",
      "\n",
      "How many lower case letters would you like to have in your password?\n",
      "4\n",
      "Thank you. You will have 4 lower case letter(s) in your password.\n",
      "\n",
      "How many upper case letters would you like to have in your password?\n",
      "20\n",
      "Thank you. You will have 20 uppercase letter(s) in your password.\n",
      "\n",
      "How many special characters would you like to include in your password?\n",
      "20\n",
      "Thank you. You will have 20 special character(s) in your password.\n",
      "\n",
      "How many numbers would you like to include in your password?\n",
      "50\n",
      "Thank you. You will have 50 number(s) in your password.\n",
      "Thank you for your inputs. Your password will be generated shortly.\n"
     ]
    }
   ],
   "source": [
    "# User input functions:\n",
    "pw_length = password_length()\n",
    "num_lower = choose_lower()\n",
    "num_upper = choose_upper()\n",
    "num_special = choose_special()\n",
    "num_digits = choose_digits()\n",
    "\n",
    "check_user_inputs(pw_length, num_lower, num_upper, num_special, num_digits)"
   ]
  },
  {
   "cell_type": "code",
   "execution_count": 158,
   "metadata": {},
   "outputs": [
    {
     "name": "stdout",
     "output_type": "stream",
     "text": [
      "\n",
      "Thank you for using the password generator app. \n",
      "      Your new password is:\n",
      "\n",
      " '8u@f[1Y3y79a8g240Jkk(V^1\"O-r27=0M`CfQ{KV{)sTM!Zivw8N6n6|UFMj5}$95HG:q[6z/?QAl \n",
      "\n",
      " Goodbye!\n"
     ]
    }
   ],
   "source": [
    "# Generate a preliminary character list using user inputs\n",
    "characters_list = characters_generator(num_upper, num_special, num_digits)\n",
    "prelim_password_list = []\n",
    "prelim_password_list\n",
    "\n",
    "# Generate a preliminary password list using user inputs\n",
    "prelim_password_list = generate_prelim_password(prelim_password_list)\n",
    "prelim_password_list\n",
    "\n",
    "# Check to see if preliminary password meets minimum requirements\n",
    "# and create a new password if the preliminary password does not\n",
    "# meet the minimum requirements.\n",
    "password_character_check(lower_case, num_lower, prelim_password_list)\n",
    "password_character_check(upper_case, num_upper, prelim_password_list)\n",
    "password_character_check(special, num_special, prelim_password_list)\n",
    "password_character_check(digits, num_digits, prelim_password_list)\n",
    "\n",
    "# Shuffle updated characters one more time. \n",
    "randomize_characters(prelim_password_list)\n",
    "\n",
    "# Combine password_list elements into a string. \n",
    "new_password = password_string(prelim_password_list)\n",
    "print(f\"\"\"\\nThank you for using the password generator app. \n",
    "      Your new password is:\\n\\n {new_password} \\n\\n Goodbye!\"\"\")"
   ]
  },
  {
   "cell_type": "code",
   "execution_count": 171,
   "metadata": {},
   "outputs": [
    {
     "data": {
      "text/plain": [
       "[\"'\",\n",
       " '8',\n",
       " 'u',\n",
       " '@',\n",
       " 'f',\n",
       " '[',\n",
       " '1',\n",
       " 'Y',\n",
       " '3',\n",
       " 'y',\n",
       " '7',\n",
       " '9',\n",
       " 'a',\n",
       " '8',\n",
       " 'g',\n",
       " '2',\n",
       " '4',\n",
       " '0',\n",
       " 'J',\n",
       " 'k',\n",
       " 'k',\n",
       " '(',\n",
       " 'V',\n",
       " '^',\n",
       " '1',\n",
       " '\"',\n",
       " 'O',\n",
       " '-',\n",
       " 'r',\n",
       " '2',\n",
       " '7',\n",
       " '=',\n",
       " '0',\n",
       " 'M',\n",
       " '`',\n",
       " 'C',\n",
       " 'f',\n",
       " 'Q',\n",
       " '{',\n",
       " 'K',\n",
       " 'V',\n",
       " '{',\n",
       " ')',\n",
       " 's',\n",
       " 'T',\n",
       " 'M',\n",
       " '!',\n",
       " 'Z',\n",
       " 'i',\n",
       " 'v',\n",
       " 'w',\n",
       " '8',\n",
       " 'N',\n",
       " '6',\n",
       " 'n',\n",
       " '6',\n",
       " '|',\n",
       " 'U',\n",
       " 'F',\n",
       " 'M',\n",
       " 'j',\n",
       " '5',\n",
       " '}',\n",
       " '$',\n",
       " '9',\n",
       " '5',\n",
       " 'H',\n",
       " 'G',\n",
       " ':',\n",
       " 'q',\n",
       " '[',\n",
       " '6',\n",
       " 'z',\n",
       " '/',\n",
       " '?',\n",
       " 'Q',\n",
       " 'A',\n",
       " 'l']"
      ]
     },
     "execution_count": 171,
     "metadata": {},
     "output_type": "execute_result"
    }
   ],
   "source": [
    "leslie = \"\"\"'8u@f[1Y3y79a8g240Jkk(V^1\"O-r27=0M`CfQ{KV{)sTM!Zivw8N6n6|UFMj5}$95HG:q[6z/?QAl\"\"\".replace(\"\", \" \")\n",
    "leslie = leslie.split()\n",
    "leslie"
   ]
  },
  {
   "cell_type": "code",
   "execution_count": 176,
   "metadata": {},
   "outputs": [
    {
     "data": {
      "text/plain": [
       "78"
      ]
     },
     "execution_count": 176,
     "metadata": {},
     "output_type": "execute_result"
    }
   ],
   "source": [
    "len(leslie)"
   ]
  },
  {
   "cell_type": "code",
   "execution_count": 159,
   "metadata": {},
   "outputs": [
    {
     "data": {
      "text/plain": [
       "18"
      ]
     },
     "execution_count": 159,
     "metadata": {},
     "output_type": "execute_result"
    }
   ],
   "source": [
    "intersection_lower = [char for char in prelim_password_list if char in lower_case]\n",
    "length_intersect_lower = len(intersection_lower)\n",
    "length_intersect_lower"
   ]
  },
  {
   "cell_type": "code",
   "execution_count": 163,
   "metadata": {},
   "outputs": [
    {
     "data": {
      "text/plain": [
       "20"
      ]
     },
     "execution_count": 163,
     "metadata": {},
     "output_type": "execute_result"
    }
   ],
   "source": [
    "intersection_upper = [char for char in prelim_password_list if char in upper_case]\n",
    "length_intersect_upper = len(intersection_upper)\n",
    "length_intersect_upper"
   ]
  },
  {
   "cell_type": "code",
   "execution_count": 161,
   "metadata": {},
   "outputs": [
    {
     "data": {
      "text/plain": [
       "20"
      ]
     },
     "execution_count": 161,
     "metadata": {},
     "output_type": "execute_result"
    }
   ],
   "source": [
    "intersection_special = [char for char in prelim_password_list if char in special]\n",
    "length_intersect_special = len(intersection_special)\n",
    "length_intersect_special"
   ]
  },
  {
   "cell_type": "code",
   "execution_count": 162,
   "metadata": {},
   "outputs": [
    {
     "data": {
      "text/plain": [
       "20"
      ]
     },
     "execution_count": 162,
     "metadata": {},
     "output_type": "execute_result"
    }
   ],
   "source": [
    "intersection_digits = [char for char in prelim_password_list if char in digits]\n",
    "length_intersect_digits = len(intersection_digits)\n",
    "length_intersect_digits"
   ]
  },
  {
   "cell_type": "code",
   "execution_count": 172,
   "metadata": {},
   "outputs": [
    {
     "data": {
      "text/plain": [
       "18"
      ]
     },
     "execution_count": 172,
     "metadata": {},
     "output_type": "execute_result"
    }
   ],
   "source": [
    "intersection_lower = [char for char in leslie if char in lower_case]\n",
    "length_intersect_lower = len(intersection_lower)\n",
    "length_intersect_lower"
   ]
  },
  {
   "cell_type": "code",
   "execution_count": 173,
   "metadata": {},
   "outputs": [
    {
     "data": {
      "text/plain": [
       "20"
      ]
     },
     "execution_count": 173,
     "metadata": {},
     "output_type": "execute_result"
    }
   ],
   "source": [
    "intersection_upper = [char for char in leslie if char in upper_case]\n",
    "length_intersect_upper = len(intersection_upper)\n",
    "length_intersect_upper"
   ]
  },
  {
   "cell_type": "code",
   "execution_count": 174,
   "metadata": {},
   "outputs": [
    {
     "data": {
      "text/plain": [
       "20"
      ]
     },
     "execution_count": 174,
     "metadata": {},
     "output_type": "execute_result"
    }
   ],
   "source": [
    "intersection_special = [char for char in leslie if char in special]\n",
    "length_intersect_special = len(intersection_special)\n",
    "length_intersect_special"
   ]
  },
  {
   "cell_type": "code",
   "execution_count": 175,
   "metadata": {},
   "outputs": [
    {
     "data": {
      "text/plain": [
       "20"
      ]
     },
     "execution_count": 175,
     "metadata": {},
     "output_type": "execute_result"
    }
   ],
   "source": [
    "intersection_digits = [char for char in leslie if char in digits]\n",
    "length_intersect_digits = len(intersection_digits)\n",
    "length_intersect_digits"
   ]
  },
  {
   "cell_type": "code",
   "execution_count": null,
   "metadata": {},
   "outputs": [],
   "source": []
  },
  {
   "cell_type": "code",
   "execution_count": null,
   "metadata": {},
   "outputs": [],
   "source": []
  },
  {
   "cell_type": "code",
   "execution_count": null,
   "metadata": {},
   "outputs": [],
   "source": []
  },
  {
   "cell_type": "code",
   "execution_count": null,
   "metadata": {},
   "outputs": [],
   "source": []
  }
 ],
 "metadata": {
  "kernelspec": {
   "display_name": "Python 3",
   "language": "python",
   "name": "python3"
  },
  "language_info": {
   "codemirror_mode": {
    "name": "ipython",
    "version": 3
   },
   "file_extension": ".py",
   "mimetype": "text/x-python",
   "name": "python",
   "nbconvert_exporter": "python",
   "pygments_lexer": "ipython3",
   "version": "3.7.1"
  }
 },
 "nbformat": 4,
 "nbformat_minor": 2
}
