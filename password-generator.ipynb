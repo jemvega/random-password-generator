{
 "cells": [
  {
   "cell_type": "code",
   "execution_count": null,
   "metadata": {},
   "outputs": [],
   "source": [
    "print(\"\"\"Welcome to the Password Generator App!\n",
    "\n",
    "The password generator is a program that will generate a random password\n",
    "for the user. The user will be allowed to input how many upper case letters, \n",
    "special characters, and numbers/digits, he or she wants in a password. \n",
    "The minimum requirements for a password are that the user's password must be\n",
    "between 8 and 94 characters long and have at least one of the following:\n",
    "        -An upper case letter, \n",
    "        -A lower case letter,\n",
    "        -A number, \n",
    "        -A special character.\n",
    "\n",
    "Some features of this password generator include:\n",
    "        -The password will be generated using ASCII printable characters.\n",
    "        -The generated password is a permutation with repetition allowed.\n",
    "\"\"\")"
   ]
  },
  {
   "cell_type": "code",
   "execution_count": null,
   "metadata": {},
   "outputs": [],
   "source": [
    "import random\n",
    "\n",
    "def password_length():\n",
    "    while True:\n",
    "        pw_length = input(\"\\nHow long do you want your password to be?\\n \")\n",
    "        if pw_length.isdigit():\n",
    "            if 8 <= int(pw_length) <= 94:\n",
    "                print(f\"Thank you. Your password length is {pw_length}.\")\n",
    "                pw_length = int(pw_length)\n",
    "                return pw_length\n",
    "                break\n",
    "            else: \n",
    "                print(\"\"\"\\tI'm sorry. Your password must be a \n",
    "                minimum of 8 characters and a maximum of 94 characters \n",
    "                (All ASCII printable characters except space)\"\"\")\n",
    "                continue\n",
    "        else:\n",
    "            print(\"\"\"\\tI'm sorry. Your password must be a \n",
    "            minimum of 8 characters and a maximum of 94 characters \n",
    "            (All ASCII printable characters except space)\"\"\")\n",
    "            continue"
   ]
  },
  {
   "cell_type": "code",
   "execution_count": null,
   "metadata": {},
   "outputs": [],
   "source": [
    "def choose_upper():\n",
    "    while True:\n",
    "        num_upper = input(\"\\nHow many upper case letters would you like to have in your password?\\n\")\n",
    "        if 1 <= num_upper.isdigit():\n",
    "            if int(num_upper) <= 91:\n",
    "                print(f\"Thank you. You will have {num_upper} uppercase letter(s) in your password.\")\n",
    "                num_upper = int(num_upper)\n",
    "                return num_upper\n",
    "                break\n",
    "            else: \n",
    "                print(f\"\"\"I'm sorry. Your password must have at least 1 upper\n",
    "                case letter and a maximum of 91 upper case letters.\"\"\")\n",
    "            continue\n",
    "        else: \n",
    "            print(\"\"\"Invalid input. Please include a number that is greater \n",
    "            than 1 and less than 91 inclusive.\"\"\")\n",
    "            continue"
   ]
  },
  {
   "cell_type": "code",
   "execution_count": null,
   "metadata": {},
   "outputs": [],
   "source": [
    "def choose_special():\n",
    "    while True:\n",
    "        num_special = input(\"\\nHow many special characters would you like to include in your password?\\n\")\n",
    "        if num_special.isdigit():\n",
    "            if 1 <= int(num_special) <= 91:\n",
    "                print(f\"Thank you. You will have {num_special} special character(s) in your password.\")\n",
    "                num_special = int(num_special)\n",
    "                return num_special\n",
    "                break\n",
    "            else: \n",
    "                  print(f\"\"\"I'm sorry. Your password must have at least 1 \n",
    "                  special character and a maximum of 91 special characters.\"\"\")\n",
    "            continue\n",
    "        else: \n",
    "            print(\"\"\"Invalid input. Please include a number that is greater \n",
    "            than 1 and less than 91 inclusive.\"\"\")\n",
    "            continue"
   ]
  },
  {
   "cell_type": "code",
   "execution_count": null,
   "metadata": {},
   "outputs": [],
   "source": [
    "def choose_digits():\n",
    "    while True:\n",
    "        num_digits = input(\"\\nHow many numbers would you like to include in your password?\\n\")\n",
    "        if num_digits.isdigit():\n",
    "            if 1 <= int(num_digits) <= 91:\n",
    "                print(f\"Thank you. You will have {num_digits} number(s) in your password.\")\n",
    "                num_digits = int(num_digits)\n",
    "                return num_digits\n",
    "                break\n",
    "            else: \n",
    "                print(f\"\"\"I'm sorry. Your password must have at least 1 number\n",
    "                and a maximum of 91 special numbers.\"\"\")\n",
    "            continue\n",
    "        else: \n",
    "            print(\"\"\"Invalid input. Please include a number that is greater \n",
    "            than 1 and less than 91 inclusive.\"\"\")\n",
    "            continue"
   ]
  },
  {
   "cell_type": "code",
   "execution_count": null,
   "metadata": {},
   "outputs": [],
   "source": [
    "# This function checks to see if the user inputs will allow \n",
    "# the logic of this program to work while meeting the\n",
    "# requirements.\n",
    "def check_user_inputs(pw_length, num_lower, num_upper, num_special, num_digits):\n",
    "    sum_pw_char = num_lower + num_upper + num_special + num_digits \n",
    "    if sum_pw_char == pw_length:\n",
    "        if 8 <= sum_pw_char <= 94:\n",
    "            print(\"Thank you for your inputs. Your password will be generated shortly.\")\n",
    "        else:\n",
    "            print(\"\"\"I'm sorry. There was an error with your inputs.\n",
    "                  Please make sure that the number of upper case letters, \n",
    "                  special characters, and numbers are between 8 and 94 \n",
    "                  inclusive and that your password is a minimum of \n",
    "                  8 characters long. These are the minimum \n",
    "                  requirements for a safe password.\"\"\")\n",
    "    else:\n",
    "        print(\"\"\"I'm sorry. There was an error with your inputs. \n",
    "        The number of lower case letters, upper case letters, \n",
    "        special characters, and numbers in your password must \n",
    "        be equal to the length of your password and between \n",
    "        8 and 94 characters inclusive.\"\"\")"
   ]
  },
  {
   "cell_type": "code",
   "execution_count": null,
   "metadata": {},
   "outputs": [],
   "source": [
    "# A function to randomize characters. \n",
    "def randomize_characters(characters):\n",
    "    random.shuffle(characters)"
   ]
  },
  {
   "cell_type": "code",
   "execution_count": null,
   "metadata": {},
   "outputs": [],
   "source": [
    "def characters_generator(num_upper, num_special, num_digits):\n",
    "    randomize_characters(lower_case)\n",
    "    randomize_characters(upper_case)\n",
    "    randomize_characters(special)\n",
    "    randomize_characters(digits)\n",
    "    \n",
    "    upper_slice = upper_case[:num_upper]\n",
    "    special_slice = special[:num_special]\n",
    "    digits_slice = digits[:num_digits]\n",
    "    \n",
    "    characters_list = list(lower_case + upper_slice + special_slice + digits_slice)\n",
    "    return characters_list"
   ]
  },
  {
   "cell_type": "code",
   "execution_count": null,
   "metadata": {},
   "outputs": [],
   "source": [
    "def preliminary_password():\n",
    "    while True:\n",
    "        if len(prelim_password_list) < pw_length:\n",
    "            try:\n",
    "                prelim_list = characters_generator(num_upper, num_special, num_digits)\n",
    "                randomize_characters(prelim_list)\n",
    "                variable = prelim_list.pop()\n",
    "                prelim_password_list.append(variable)\n",
    "                prelim_list.append(variable)\n",
    "                return prelim_password_list\n",
    "            except: \n",
    "                print(\"There's an error in preliminary_password!\")\n",
    "                break\n",
    "        else:\n",
    "            print(f\"\"\"Error preliminary_password:\n",
    "                  You limited your password to {pw_length} characters!\"\"\")\n",
    "            break"
   ]
  },
  {
   "cell_type": "code",
   "execution_count": null,
   "metadata": {},
   "outputs": [],
   "source": [
    "def generate_prelim_password(prelim_password_list):\n",
    "    while True:\n",
    "        if len(prelim_password_list) < pw_length:\n",
    "            try:\n",
    "                for i in range(0, pw_length):\n",
    "                    prelim_password_list = preliminary_password()\n",
    "                return prelim_password_list\n",
    "            except:\n",
    "                print(\"There's an error in generate_prelim_password!\")\n",
    "                break\n",
    "        else: \n",
    "            print(f\"\"\"Error generate_prelim_password: \n",
    "                You limited your password to {pw_length} characters!\"\"\")\n",
    "            break"
   ]
  },
  {
   "cell_type": "code",
   "execution_count": null,
   "metadata": {},
   "outputs": [],
   "source": [
    "# editing copy\n",
    "def password_character_check(characters_set, num_characters, prelim_password_list):\n",
    "    # Note: characters_set <=> upper_case, special, or digits\n",
    "    # Note: num_characters <=> num_upper, num_special, num_digits\n",
    "    # Note: prelim_password_list <=> prelim_password_list from generate_prelim_password\n",
    "    \n",
    "    \n",
    "    # Find the number of extra characters in prelim_password_list\n",
    "    intersection_char = [char for char in prelim_password_list if char in characters_set]\n",
    "    length_intersect_char = len(intersection_char)\n",
    "    difference_char = abs(length_intersect_char - num_upper)\n",
    "    intersection_lower = [char for char in prelim_password_list if char in lower_case]\n",
    "    \n",
    "    if length_intersect_char < num_characters: # Check against user input\n",
    "        randomize_characters(characters_set) \n",
    "        prelim_password_list.extend(characters_set[:difference_char]) # Add extra char to prelim_password_list\n",
    "        extra_lower = intersection_lower[:difference_char] # Find extra lower case characters\n",
    "        for char in extra_lower:\n",
    "            prelim_password_list.remove(char) # Remove extra lower case characters\n",
    "        print(\"Added characters! Removed lower case letters!\")\n",
    "        return prelim_password_list\n",
    "    elif length_intersect_char > num_characters:  # Check against user input\n",
    "        randomize_characters(lower_case)\n",
    "        extra_char = intersection_char[num_characters:] # Find extra characters\n",
    "        for char in extra_char:\n",
    "            prelim_password_list.remove(char) # Remove extra characters\n",
    "        prelim_password_list.extend(lower_case[:difference_char]) # Add extra lower case to prelim_password_list\n",
    "        print(\"Removed characters! Added lower case letters!\")\n",
    "        return prelim_password_list\n",
    "    else:\n",
    "        pass"
   ]
  },
  {
   "cell_type": "code",
   "execution_count": null,
   "metadata": {},
   "outputs": [],
   "source": [
    "def password_length_check(prelim_password_list):\n",
    "    if len(prelim_password_list) > pw_length:\n",
    "        return prelim_password_list[:pw_length]"
   ]
  },
  {
   "cell_type": "code",
   "execution_count": null,
   "metadata": {},
   "outputs": [],
   "source": [
    "# This function gets length of password and joins characters into a string. \n",
    "def password_string(prelim_password_list):\n",
    "    new_password = \"\".join(prelim_password_list)\n",
    "    return new_password"
   ]
  },
  {
   "cell_type": "code",
   "execution_count": null,
   "metadata": {},
   "outputs": [],
   "source": [
    "def password_character_check(characters_set, num_characters, prelim_password_list):\n",
    "    # Note: characters_set <=> upper_case, special, or digits\n",
    "    # Note: num_characters <=> num_upper, num_special, num_digits\n",
    "    # Note: prelim_password_list <=> prelim_password_list from generate_prelim_password\n",
    "    \n",
    "    # Find the number of extra characters in prelim_password_list\n",
    "    intersection_char = [char for char in prelim_password_list if char in characters_set]\n",
    "    length_intersect_char = len(intersection_char)\n",
    "    difference_char = abs(length_intersect_char - num_characters)\n",
    "    intersection_lower = [char for char in prelim_password_list if char in lower_case]\n",
    "    \n",
    "    if length_intersect_char < num_characters: # Check against user input\n",
    "        randomize_characters(characters_set) \n",
    "        prelim_password_list.extend(characters_set[:difference_char]) # Add extra char to prelim_password_list\n",
    "        extra_lower = intersection_lower[:difference_char] # Find extra lower case characters\n",
    "        for char in extra_lower:\n",
    "            prelim_password_list.remove(char) # Remove extra lower case characters\n",
    "        return prelim_password_list\n",
    "    elif length_intersect_char > num_characters:  # Check against user input\n",
    "        randomize_characters(lower_case)\n",
    "        extra_char = intersection_char[num_characters:] # Find extra characters\n",
    "        for char in extra_char:\n",
    "            prelim_password_list.remove(char) # Remove extra characters\n",
    "        prelim_password_list.extend(lower_case[:difference_char]) # Add extra lower case to prelim_password_list\n",
    "        return prelim_password_list\n",
    "    else:\n",
    "        pass"
   ]
  },
  {
   "cell_type": "code",
   "execution_count": null,
   "metadata": {},
   "outputs": [],
   "source": [
    "def password_checks_loop(preliminary_password_list):\n",
    "    while True:\n",
    "        # Check preliminary password length with user input\n",
    "        password_length_check(prelim_password_list)\n",
    "\n",
    "        # Check to see if preliminary password meets minimum requirements\n",
    "        # and create a new password if the preliminary password does not\n",
    "        # meet the minimum requirements.\n",
    "        password_character_check(upper_case, num_upper, prelim_password_list)\n",
    "        password_character_check(special, num_special, prelim_password_list)\n",
    "        password_character_check(digits, num_digits, prelim_password_list)\n",
    "        \n",
    "        # Find the number of lower_case characters in password\n",
    "        intersection_lower = [char for char in prelim_password_list if char in lower_case]\n",
    "        length_intersect_lower = len(intersection_lower)\n",
    "        \n",
    "        # Find the number of upper_case characters in password\n",
    "        intersection_upper = [char for char in prelim_password_list if char in upper_case]\n",
    "        length_intersect_upper = len(intersection_upper)\n",
    "        \n",
    "        # Find the number of special characters in password\n",
    "        intersection_special = [char for char in prelim_password_list if char in special]\n",
    "        length_intersect_special = len(intersection_special)\n",
    "        \n",
    "        # Find the number of digits characters in password\n",
    "        intersection_digits = [char for char in prelim_password_list if char in digits]\n",
    "        length_intersect_digits = len(intersection_digits)\n",
    "\n",
    "        if len(intersection_upper) == num_upper:\n",
    "              if len(intersection_special) == num_special:\n",
    "                    if len(intersection_digits) == num_digits:\n",
    "                        if len(intersection_lower) > num_lower:\n",
    "                            randomize_characters(lower_case)\n",
    "                            extra_lower = intersection_lower[num_lower:] # Find extra characters\n",
    "                            for char in extra_lower:\n",
    "                                prelim_password_list.remove(char) # Remove extra characters\n",
    "                            return prelim_password_list\n",
    "                            break\n",
    "                            \n",
    "                        elif len(intersection_lower) < num_lower:\n",
    "                            randomize_characters(lower_case)\n",
    "                            difference_lower = abs(length_intersect_lower - num_lower)\n",
    "                            prelim_password_list.extend(lower_case[:difference_lower]) # Add extra char to prelim_password_list\n",
    "                            return prelim_password_list\n",
    "                            break\n",
    "                        elif len(intersection_lower) == num_lower:\n",
    "                            return prelim_password_list\n",
    "                            break"
   ]
  },
  {
   "cell_type": "code",
   "execution_count": null,
   "metadata": {},
   "outputs": [],
   "source": [
    "# Lists of characters for passwords\n",
    "letters = 'a b c d e f g h i j k l m n o p q r s t u v w x y z'\n",
    "lower_case = letters.split()\n",
    "upper_case = letters.upper().split()\n",
    "digits = \"0 1 2 3 4 5 6 7 8 9\".split()\n",
    "special = \"\"\"! \" # $ % & ' ( ) * + , - . / : ; < = > ? @ [ \\ ] ^ _ ` { | } ~\"\"\".split()\n",
    "characters_total = list(lower_case + upper_case + digits + special)"
   ]
  },
  {
   "cell_type": "code",
   "execution_count": null,
   "metadata": {},
   "outputs": [],
   "source": [
    "# User input functions:\n",
    "pw_length = password_length()\n",
    "# num_lower = choose_lower()\n",
    "num_upper = choose_upper()\n",
    "num_special = choose_special()\n",
    "num_digits = choose_digits()\n",
    "\n",
    "num_lower = (pw_length - num_upper - num_special - num_digits)\n",
    "\n",
    "check_user_inputs(pw_length, num_lower, num_upper, num_special, num_digits)"
   ]
  },
  {
   "cell_type": "code",
   "execution_count": null,
   "metadata": {},
   "outputs": [],
   "source": [
    "# Generate a preliminary character list using user inputs\n",
    "characters_list = characters_generator(num_upper, num_special, num_digits)\n",
    "prelim_password_list = []\n",
    "prelim_password_list\n",
    "\n",
    "# Generate a preliminary password list using user inputs\n",
    "prelim_password_list = generate_prelim_password(prelim_password_list)\n",
    "prelim_password_list\n",
    "\n",
    "\n",
    "prelim_password_list\n",
    "\n",
    "# Run password checks until it meets criteria.\n",
    "password_checks_loop(prelim_password_list)\n",
    "\n",
    "\n",
    "# Shuffle updated characters one more time. \n",
    "randomize_characters(prelim_password_list)\n",
    "\n",
    "\n",
    "# Combine password_list elements into a string. \n",
    "new_password = password_string(prelim_password_list)\n",
    "print(f\"\"\"\\nThank you for using the password generator app. \n",
    "      Your new password is:\\n\\n {new_password} \\n\\n Goodbye!\"\"\")"
   ]
  },
  {
   "cell_type": "code",
   "execution_count": null,
   "metadata": {},
   "outputs": [],
   "source": [
    "test = f\"\"\"{new_password}\"\"\".replace(\"\", \" \")\n",
    "test = test.split()\n",
    "test"
   ]
  },
  {
   "cell_type": "code",
   "execution_count": null,
   "metadata": {},
   "outputs": [],
   "source": [
    "len(test)"
   ]
  },
  {
   "cell_type": "code",
   "execution_count": null,
   "metadata": {},
   "outputs": [],
   "source": [
    "intersection_lower = [char for char in test if char in lower_case]\n",
    "length_intersect_lower = len(intersection_lower)\n",
    "length_intersect_lower"
   ]
  },
  {
   "cell_type": "code",
   "execution_count": null,
   "metadata": {},
   "outputs": [],
   "source": [
    "intersection_upper = [char for char in test if char in upper_case]\n",
    "length_intersect_upper = len(intersection_upper)\n",
    "length_intersect_upper"
   ]
  },
  {
   "cell_type": "code",
   "execution_count": null,
   "metadata": {},
   "outputs": [],
   "source": [
    "intersection_special = [char for char in test if char in special]\n",
    "length_intersect_special = len(intersection_special)\n",
    "length_intersect_special"
   ]
  },
  {
   "cell_type": "code",
   "execution_count": null,
   "metadata": {},
   "outputs": [],
   "source": [
    "intersection_digits = [char for char in test if char in digits]\n",
    "length_intersect_digits = len(intersection_digits)\n",
    "length_intersect_digits"
   ]
  }
 ],
 "metadata": {
  "kernelspec": {
   "display_name": "Python 3",
   "language": "python",
   "name": "python3"
  },
  "language_info": {
   "codemirror_mode": {
    "name": "ipython",
    "version": 3
   },
   "file_extension": ".py",
   "mimetype": "text/x-python",
   "name": "python",
   "nbconvert_exporter": "python",
   "pygments_lexer": "ipython3",
   "version": "3.7.1"
  }
 },
 "nbformat": 4,
 "nbformat_minor": 2
}
