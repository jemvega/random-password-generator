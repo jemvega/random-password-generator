{
 "cells": [
  {
   "cell_type": "code",
   "execution_count": null,
   "metadata": {},
   "outputs": [],
   "source": []
  },
  {
   "cell_type": "code",
   "execution_count": 37,
   "metadata": {},
   "outputs": [],
   "source": [
    "import random"
   ]
  },
  {
   "cell_type": "code",
   "execution_count": null,
   "metadata": {},
   "outputs": [],
   "source": [
    "print(\"\"\"Rules: Your password must have at least one of the following:\n",
    "      -An upper case letter, \n",
    "      -A lower case letter,\n",
    "      -A number, \n",
    "      -A special character.\"\"\")"
   ]
  },
  {
   "cell_type": "code",
   "execution_count": 40,
   "metadata": {},
   "outputs": [],
   "source": [
    "# Lists of characters for passwords\n",
    "letters = 'a b c d e f g h i j k l m n o p q r s t u v w x y z'\n",
    "lower_case = letters.split()\n",
    "upper_case = letters.upper().split()\n",
    "digits = \"0 1 2 3 4 5 6 7 8 9\".split()\n",
    "special = \"\"\"! \" # $ % & ' ( ) * + , - . / : ; < = > ? @ [ \\ ] ^ _ ` { | } ~\"\"\".split()\n",
    "characters = list(lower_case + upper_case + digits + special)"
   ]
  },
  {
   "cell_type": "code",
   "execution_count": 45,
   "metadata": {},
   "outputs": [],
   "source": [
    "def randomize_characters(characters):\n",
    "    random_char = random.shuffle(characters)\n",
    "    return random_char"
   ]
  },
  {
   "cell_type": "code",
   "execution_count": 55,
   "metadata": {},
   "outputs": [],
   "source": [
    "# This function gets length of password and joins characters into a string. \n",
    "def print_password(random_char):\n",
    "    password_list = characters[:pw_length]\n",
    "    password = \"\".join(password_list)\n",
    "    return password"
   ]
  },
  {
   "cell_type": "code",
   "execution_count": 32,
   "metadata": {},
   "outputs": [],
   "source": [
    "def password_length():\n",
    "    while True:\n",
    "        pw_length = input(\"\\nHow long do you want your password to be?\\n \")\n",
    "        if pw_length.isdigit():\n",
    "            if 8 <= int(pw_length) <= 94:\n",
    "                print(f\"Thank you. Your password length is {pw_length}.\")\n",
    "                pw_length = int(pw_length)\n",
    "                return pw_length\n",
    "                break\n",
    "            else: \n",
    "                print(\"\"\"\\tI'm sorry. Your password must be a \n",
    "                minimum of 8 characters and a maximum of 94 characters \n",
    "                (All ASCII printable characters except space)\"\"\")\n",
    "                continue\n",
    "        else:\n",
    "            print(\"\"\"\\tI'm sorry. Your password must be a \n",
    "            minimum of 8 characters and a maximum of 94 characters \n",
    "            (All ASCII printable characters except space)\"\"\")\n",
    "            continue"
   ]
  },
  {
   "cell_type": "code",
   "execution_count": 1,
   "metadata": {},
   "outputs": [],
   "source": [
    "def choose_upper():\n",
    "    while True:\n",
    "        q2 = input(\"\\nWould you like to include upper case letters? Y or N? \\n\")\n",
    "        if q2 == \"y\".lower():\n",
    "            while True:\n",
    "                num_upper = input(\"\\nHow many upper case letters would you like to have in your password?\\n\")\n",
    "                if num_upper.isdigit():\n",
    "                    if int(num_upper) <= 91:\n",
    "                        print(f\"Thank you. You will have {num_upper} uppercase letters in your password.\")\n",
    "                        num_upper = int(num_upper)\n",
    "                        break\n",
    "                    else: \n",
    "                        print(f\"\"\"I'm sorry. Your password can only have\n",
    "                        maximum number of 91 upper case letters.\"\"\")\n",
    "                        continue\n",
    "                else: \n",
    "                    print(\"Invalid input. Please include a number less than 91.\")\n",
    "                    continue\n",
    "            break\n",
    "        elif q2 ==\"n\".lower():\n",
    "            break\n",
    "        else:\n",
    "            print(\"Invalid input. Please type Y or N. \")\n",
    "            continue"
   ]
  },
  {
   "cell_type": "code",
   "execution_count": null,
   "metadata": {},
   "outputs": [],
   "source": [
    "def choose_special():\n",
    "    while True:\n",
    "        q4 = input(\"\\nWould you like to include special characters in your password? Y or N?\\n\")\n",
    "        if q4 == \"y\".lower():\n",
    "            while True:\n",
    "            num_special = input(\"\\nHow many special characters would you like to include in your password?\\n\")\n",
    "            if num_special.isdigit():\n",
    "                if int(num_special) <= 91:\n",
    "                    print(f\"Thank you. You will have {num_special} special characters in your password.\")\n",
    "                    num_special = int(num_special)\n",
    "                    break\n",
    "                else: \n",
    "                    print(f\"\"\"I'm sorry. Your password can only have\n",
    "                    maximum number of 91 special letters.\"\"\")\n",
    "                    continue\n",
    "            else: \n",
    "                print(\"Invalid input. Please include a number less than 91.\")\n",
    "                continue\n",
    "            break\n",
    "        elif q4 ==\"n\".lower():\n",
    "            break\n",
    "        else:\n",
    "            print(\"Invalid input. Please type Y or N. \")\n",
    "            continue"
   ]
  },
  {
   "cell_type": "code",
   "execution_count": null,
   "metadata": {},
   "outputs": [],
   "source": [
    "def choose_digits():\n",
    "    while True:\n",
    "        q6 = input(\"\\nWould you like to include numbers in your password? Y or N?\\n\")\n",
    "        if q6 == \"y\".lower():\n",
    "            while True:\n",
    "            num_digits = input(\"\\nHow many numbers would you like to include in your password?\\n\")\n",
    "            if num_digits.isdigit():\n",
    "                if int(num_digits) <= 91:\n",
    "                    print(f\"Thank you. You will have {num_digits} numbers in your password.\")\n",
    "                    num_digits = int(num_digits)\n",
    "                    break\n",
    "                else: \n",
    "                    print(f\"\"\"I'm sorry. Your password can only have\n",
    "                    maximum number of 91 special letters.\"\"\")\n",
    "                    continue\n",
    "            else: \n",
    "                print(\"Invalid input. Please include a number less than 91.\")\n",
    "                continue\n",
    "            break\n",
    "        elif q6 ==\"n\".lower():\n",
    "            break\n",
    "        else:\n",
    "            print(\"Invalid input. Please type Y or N. \")\n",
    "            continue"
   ]
  },
  {
   "cell_type": "code",
   "execution_count": 56,
   "metadata": {},
   "outputs": [
    {
     "name": "stdout",
     "output_type": "stream",
     "text": [
      "\n",
      "How long do you want your password to be?\n",
      " 42\n",
      "Thank you. Your password length is 42.\n",
      "JF@+iD1[?qVE3a<)9Xcl_pGjB#84HnPSQhdAIbx:,O\n"
     ]
    }
   ],
   "source": [
    "pw_length = password_length()\n",
    "random_char = randomize_characters(characters)\n",
    "password = print_password(random_char)\n",
    "print(password)"
   ]
  },
  {
   "cell_type": "code",
   "execution_count": 57,
   "metadata": {},
   "outputs": [
    {
     "data": {
      "text/plain": [
       "42"
      ]
     },
     "execution_count": 57,
     "metadata": {},
     "output_type": "execute_result"
    }
   ],
   "source": [
    "len(password)"
   ]
  },
  {
   "cell_type": "code",
   "execution_count": 34,
   "metadata": {},
   "outputs": [
    {
     "data": {
      "text/plain": [
       "['/', ',-', 'u', '\"', 'J', 'v', 'P', 'm']"
      ]
     },
     "execution_count": 34,
     "metadata": {},
     "output_type": "execute_result"
    }
   ],
   "source": [
    "new"
   ]
  },
  {
   "cell_type": "code",
   "execution_count": 40,
   "metadata": {},
   "outputs": [],
   "source": [
    "password = \"\".join(new)"
   ]
  },
  {
   "cell_type": "code",
   "execution_count": 42,
   "metadata": {},
   "outputs": [
    {
     "name": "stdout",
     "output_type": "stream",
     "text": [
      "/,-u\"JvPm\n"
     ]
    }
   ],
   "source": [
    "print(password)"
   ]
  },
  {
   "cell_type": "code",
   "execution_count": 48,
   "metadata": {},
   "outputs": [
    {
     "data": {
      "text/plain": [
       "True"
      ]
     },
     "execution_count": 48,
     "metadata": {},
     "output_type": "execute_result"
    }
   ],
   "source": [
    "any(i in password for i in characters)"
   ]
  },
  {
   "cell_type": "code",
   "execution_count": 49,
   "metadata": {},
   "outputs": [
    {
     "data": {
      "text/plain": [
       "['/', ',', '-', 'u', '\"', 'J', 'v', 'P', 'm']"
      ]
     },
     "execution_count": 49,
     "metadata": {},
     "output_type": "execute_result"
    }
   ],
   "source": [
    "[i for i in password if i in characters]"
   ]
  },
  {
   "cell_type": "code",
   "execution_count": 50,
   "metadata": {},
   "outputs": [
    {
     "data": {
      "text/plain": [
       "{'\"', ',', '-', '/', 'J', 'P', 'm', 'u', 'v'}"
      ]
     },
     "execution_count": 50,
     "metadata": {},
     "output_type": "execute_result"
    }
   ],
   "source": [
    "s1 = set(password)\n",
    "s2 = set(characters)\n",
    "s1.intersection(s2)"
   ]
  },
  {
   "cell_type": "code",
   "execution_count": 57,
   "metadata": {},
   "outputs": [],
   "source": [
    "test = \"1 3 5 g a 7 J P $ @ ) *\".replace(\" \", \"\")"
   ]
  },
  {
   "cell_type": "code",
   "execution_count": 58,
   "metadata": {},
   "outputs": [
    {
     "name": "stdout",
     "output_type": "stream",
     "text": [
      "135ga7JP$@)*\n"
     ]
    }
   ],
   "source": [
    "print(test)"
   ]
  },
  {
   "cell_type": "code",
   "execution_count": 60,
   "metadata": {},
   "outputs": [],
   "source": [
    "intersection = [i for i in password if i in test]"
   ]
  },
  {
   "cell_type": "code",
   "execution_count": 62,
   "metadata": {},
   "outputs": [
    {
     "data": {
      "text/plain": [
       "2"
      ]
     },
     "execution_count": 62,
     "metadata": {},
     "output_type": "execute_result"
    }
   ],
   "source": [
    "len(intersection)"
   ]
  },
  {
   "cell_type": "code",
   "execution_count": 63,
   "metadata": {},
   "outputs": [
    {
     "data": {
      "text/plain": [
       "'P'"
      ]
     },
     "execution_count": 63,
     "metadata": {},
     "output_type": "execute_result"
    }
   ],
   "source": [
    "intersection.pop()"
   ]
  },
  {
   "cell_type": "code",
   "execution_count": 64,
   "metadata": {},
   "outputs": [
    {
     "data": {
      "text/plain": [
       "['J']"
      ]
     },
     "execution_count": 64,
     "metadata": {},
     "output_type": "execute_result"
    }
   ],
   "source": [
    "intersection"
   ]
  },
  {
   "cell_type": "code",
   "execution_count": null,
   "metadata": {},
   "outputs": [],
   "source": [
    "#while length of intersection is less than user input, pop"
   ]
  },
  {
   "cell_type": "code",
   "execution_count": null,
   "metadata": {},
   "outputs": [],
   "source": [
    "# append characters from randomize characters. "
   ]
  },
  {
   "cell_type": "code",
   "execution_count": null,
   "metadata": {},
   "outputs": [],
   "source": [
    "mylist = mylist[2:-2] and del mylist[:2];del mylist[-2:]"
   ]
  },
  {
   "cell_type": "code",
   "execution_count": null,
   "metadata": {},
   "outputs": [],
   "source": [
    "# Create a function that asks user input about length of password; \n",
    "# limit to 94 characters (All ASCII printable characters except space )"
   ]
  },
  {
   "cell_type": "code",
   "execution_count": null,
   "metadata": {},
   "outputs": [],
   "source": [
    "# Create a function that asks user input for capital/lower case option and special characters in password\n",
    "# Create a function that takes the user input for how many capital lower/case letters"
   ]
  },
  {
   "cell_type": "code",
   "execution_count": null,
   "metadata": {},
   "outputs": [],
   "source": [
    "# Create a function that asks user for special characters option in password\n",
    "# Create a function that asks user how many special characters in password"
   ]
  },
  {
   "cell_type": "code",
   "execution_count": null,
   "metadata": {},
   "outputs": [],
   "source": [
    "# Create a function that asks user input for numbers in password\n",
    "# Create a function that asks user how many numbers in password"
   ]
  }
 ],
 "metadata": {
  "kernelspec": {
   "display_name": "Python 3",
   "language": "python",
   "name": "python3"
  },
  "language_info": {
   "codemirror_mode": {
    "name": "ipython",
    "version": 3
   },
   "file_extension": ".py",
   "mimetype": "text/x-python",
   "name": "python",
   "nbconvert_exporter": "python",
   "pygments_lexer": "ipython3",
   "version": "3.7.1"
  }
 },
 "nbformat": 4,
 "nbformat_minor": 2
}
