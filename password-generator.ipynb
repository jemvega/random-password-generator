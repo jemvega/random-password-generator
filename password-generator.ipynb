{
 "cells": [
  {
   "cell_type": "code",
   "execution_count": null,
   "metadata": {},
   "outputs": [],
   "source": [
    "\"\"\"\n",
    "Notes:\n",
    "\n",
    "In my research, having a password of 128 bits. This is ASCII printable characters. \n",
    "Most password generators that I could find do not recommend allowing repetitions. \n",
    "However, permutations with repititons (Cartesian Product) are more possibilities than \n",
    "permutations without repitions. Concerns about repitions include having the user be able \n",
    "to repeat several letters in order like 'aaaaaaa' in a password. While this is certainly\n",
    "possible, my password creator generates characters randomly, which is highly unlikely to \n",
    "occur with passwords generated randomly\"\"\""
   ]
  },
  {
   "cell_type": "code",
   "execution_count": 1,
   "metadata": {},
   "outputs": [],
   "source": [
    "import random\n",
    "import itertools\n",
    "import timeit"
   ]
  },
  {
   "cell_type": "code",
   "execution_count": null,
   "metadata": {},
   "outputs": [],
   "source": [
    "print(\"\"\"Rules: Your password must have at least one of the following:\n",
    "      -An upper case letter, \n",
    "      -A lower case letter,\n",
    "      -A number, \n",
    "      -A special character.\"\"\")"
   ]
  },
  {
   "cell_type": "code",
   "execution_count": 2,
   "metadata": {},
   "outputs": [],
   "source": [
    "def password_length():\n",
    "    while True:\n",
    "        pw_length = input(\"\\nHow long do you want your password to be?\\n \")\n",
    "        if pw_length.isdigit():\n",
    "            if 8 <= int(pw_length) <= 94:\n",
    "                print(f\"Thank you. Your password length is {pw_length}.\")\n",
    "                pw_length = int(pw_length)\n",
    "                return pw_length\n",
    "                break\n",
    "            else: \n",
    "                print(\"\"\"\\tI'm sorry. Your password must be a \n",
    "                minimum of 8 characters and a maximum of 94 characters \n",
    "                (All ASCII printable characters except space)\"\"\")\n",
    "                continue\n",
    "        else:\n",
    "            print(\"\"\"\\tI'm sorry. Your password must be a \n",
    "            minimum of 8 characters and a maximum of 94 characters \n",
    "            (All ASCII printable characters except space)\"\"\")\n",
    "            continue"
   ]
  },
  {
   "cell_type": "code",
   "execution_count": 3,
   "metadata": {},
   "outputs": [],
   "source": [
    "def choose_upper():\n",
    "    while True:\n",
    "        q2 = input(\"\\nWould you like to include upper case letters? Y or N? \\n\")\n",
    "        if q2 == \"y\".lower():\n",
    "            while True:\n",
    "                num_upper = input(\"\\nHow many upper case letters would you like to have in your password?\\n\")\n",
    "                if 1 <= num_upper.isdigit():\n",
    "                    if int(num_upper) <= 91:\n",
    "                        print(f\"Thank you. You will have {num_upper} uppercase letter(s) in your password.\")\n",
    "                        num_upper = int(num_upper)\n",
    "                        return num_upper\n",
    "                        break\n",
    "                    else: \n",
    "                        print(f\"\"\"I'm sorry. Your password must have at least 1 upper\n",
    "                        case letter and a maximum of 91 upper case letters.\"\"\")\n",
    "                        continue\n",
    "                else: \n",
    "                    print(\"Invalid input. Please include a number less than 91.\")\n",
    "                    continue\n",
    "            break\n",
    "        elif q2 ==\"n\".lower():\n",
    "            break\n",
    "        else:\n",
    "            print(\"Invalid input. Please type Y or N. \")\n",
    "            continue"
   ]
  },
  {
   "cell_type": "code",
   "execution_count": 4,
   "metadata": {},
   "outputs": [],
   "source": [
    "def choose_special():\n",
    "    while True:\n",
    "        q4 = input(\"\\nWould you like to include special characters in your password? Y or N?\\n\")\n",
    "        if q4 == \"y\".lower():\n",
    "            while True:\n",
    "                num_special = input(\"\\nHow many special characters would you like to include in your password?\\n\")\n",
    "                if num_special.isdigit():\n",
    "                    if 1 <= int(num_special) <= 91:\n",
    "                        print(f\"Thank you. You will have {num_special} special character(s) in your password.\")\n",
    "                        num_special = int(num_special)\n",
    "                        return num_special\n",
    "                        break\n",
    "                    else: \n",
    "                          print(f\"\"\"I'm sorry. Your password must have at least 1 \n",
    "                          special character and a maximum of 91 special characters.\"\"\")\n",
    "                        continue\n",
    "                else: \n",
    "                    print(\"Invalid input. Please include a number less than 91.\")\n",
    "                    continue\n",
    "            break\n",
    "        elif q4 ==\"n\".lower():\n",
    "            break\n",
    "        else:\n",
    "            print(\"Invalid input. Please type Y or N. \")\n",
    "            continue"
   ]
  },
  {
   "cell_type": "code",
   "execution_count": 5,
   "metadata": {},
   "outputs": [],
   "source": [
    "def choose_digits():\n",
    "    while True:\n",
    "        q6 = input(\"\\nWould you like to include numbers in your password? Y or N?\\n\")\n",
    "        if q6 == \"y\".lower():\n",
    "            while True:\n",
    "                num_digits = input(\"\\nHow many numbers would you like to include in your password?\\n\")\n",
    "                if num_digits.isdigit():\n",
    "                    if 1 <= int(num_digits) <= 91:\n",
    "                        print(f\"Thank you. You will have {num_digits} number(s) in your password.\")\n",
    "                        num_digits = int(num_digits)\n",
    "                        return num_digits\n",
    "                        break\n",
    "                    else: \n",
    "                        print(f\"\"\"I'm sorry. Your password must have at least 1 number\n",
    "                        and a maximum of 91 special numbers.\"\"\")\n",
    "                        continue\n",
    "                else: \n",
    "                    print(\"Invalid input. Please include a number less than 91.\")\n",
    "                    continue\n",
    "            break\n",
    "        elif q6 ==\"n\".lower():\n",
    "            break\n",
    "        else:\n",
    "            print(\"Invalid input. Please type Y or N. \")\n",
    "            continue"
   ]
  },
  {
   "cell_type": "code",
   "execution_count": 6,
   "metadata": {},
   "outputs": [],
   "source": [
    "# Lists of characters for passwords\n",
    "letters = 'a b c d e f g h i j k l m n o p q r s t u v w x y z'\n",
    "lower_case = letters.split()\n",
    "upper_case = letters.upper().split()\n",
    "digits = \"0 1 2 3 4 5 6 7 8 9\".split()\n",
    "special = \"\"\"! \" # $ % & ' ( ) * + , - . / : ; < = > ? @ [ \\ ] ^ _ ` { | } ~\"\"\".split()\n",
    "characters_list = list(lower_case + upper_case + digits + special)"
   ]
  },
  {
   "cell_type": "code",
   "execution_count": 7,
   "metadata": {},
   "outputs": [],
   "source": [
    "def randomize_characters(characters):\n",
    "    random.shuffle(characters)\n",
    "\n",
    "# This function gets length of password and joins characters into a string. \n",
    "def print_password(random_char):\n",
    "    password_list = characters_list[:pw_length]\n",
    "    password = \"\".join(password_list)\n",
    "    return password"
   ]
  },
  {
   "cell_type": "code",
   "execution_count": null,
   "metadata": {},
   "outputs": [],
   "source": [
    "\"\"\"\n",
    "Need to create a function which checks the num_upper, num_special, num_digits against pw_length, \n",
    "maximum number of characters for password, and the minimum requirements for logic \n",
    "of program to work. \"\"\""
   ]
  },
  {
   "cell_type": "code",
   "execution_count": null,
   "metadata": {},
   "outputs": [],
   "source": [
    "def check_user_inputs(num_upper, num_special, num_digits):\n",
    "    sum_pw_char = num_upper + num_special + num_digits \n",
    "    if 3 =< sum_pw_char <= 91:\n",
    "        print(\"Thank you for your inputs. Your password will be generated shortly.\")\n",
    "    elif\n",
    "        print(\"\"\"I'm sorry. There was an error with your inputs.\n",
    "              Please make sure that the number of upper case letters, special characters,\n",
    "              and numbers are between 3 and 91 inclusive and that your password \n",
    "              is a minimum of 8 characters long. These are the minimum requirements\n",
    "              for a safe password.\"\"\")"
   ]
  },
  {
   "cell_type": "code",
   "execution_count": 8,
   "metadata": {},
   "outputs": [
    {
     "name": "stdout",
     "output_type": "stream",
     "text": [
      "\n",
      "How long do you want your password to be?\n",
      " 10\n",
      "Thank you. Your password length is 10.\n",
      "\n",
      "Would you like to include upper case letters? Y or N? \n",
      "y\n",
      "\n",
      "How many upper case letters would you like to have in your password?\n",
      "1\n",
      "Thank you. You will have 1 uppercase letter(s) in your password.\n",
      "\n",
      "Would you like to include special characters in your password? Y or N?\n",
      "y\n",
      "\n",
      "How many special characters would you like to include in your password?\n",
      "1\n",
      "Thank you. You will have 1 special character(s) in your password.\n",
      "\n",
      "Would you like to include numbers in your password? Y or N?\n",
      "y\n",
      "\n",
      "How many numbers would you like to include in your password?\n",
      "1\n",
      "Thank you. You will have 1 number(s) in your password.\n"
     ]
    }
   ],
   "source": [
    "# User input functions:\n",
    "pw_length = password_length()\n",
    "num_upper = choose_upper()\n",
    "num_special = choose_special()\n",
    "num_digits = choose_digits()\n",
    "\n",
    "check_user_inputs(num_upper, num_special, num_digits)\n",
    "\n",
    "# Still need to double check if the password will generate passwords with\n",
    "# many special characters, numbers, or upper case letters. "
   ]
  },
  {
   "cell_type": "code",
   "execution_count": 9,
   "metadata": {},
   "outputs": [
    {
     "data": {
      "text/plain": [
       "1"
      ]
     },
     "execution_count": 9,
     "metadata": {},
     "output_type": "execute_result"
    }
   ],
   "source": [
    "num_upper"
   ]
  },
  {
   "cell_type": "code",
   "execution_count": 10,
   "metadata": {},
   "outputs": [
    {
     "data": {
      "text/plain": [
       "1"
      ]
     },
     "execution_count": 10,
     "metadata": {},
     "output_type": "execute_result"
    }
   ],
   "source": [
    "num_special"
   ]
  },
  {
   "cell_type": "code",
   "execution_count": 11,
   "metadata": {},
   "outputs": [
    {
     "data": {
      "text/plain": [
       "1"
      ]
     },
     "execution_count": 11,
     "metadata": {},
     "output_type": "execute_result"
    }
   ],
   "source": [
    "num_digits"
   ]
  },
  {
   "cell_type": "code",
   "execution_count": null,
   "metadata": {},
   "outputs": [],
   "source": [
    "\"\"\"\n",
    "New password generator process\n",
    "take user input for letters, digits, special\n",
    "randomize the lists individually\n",
    "splice the first elements using user inputs\n",
    "then combine them into character_list\n",
    "\n",
    "\n",
    "\"\"\""
   ]
  },
  {
   "cell_type": "code",
   "execution_count": 23,
   "metadata": {},
   "outputs": [],
   "source": [
    "def characters_generator(num_upper, num_special, num_digits):\n",
    "    randomize_characters(lower_case)\n",
    "    randomize_characters(upper_case)\n",
    "    randomize_characters(special)\n",
    "    randomize_characters(digits)\n",
    "    \n",
    "    upper_slice = upper_case[:num_upper]\n",
    "    special_slice = special[:num_special]\n",
    "    digits_slice = digits[:num_digits]\n",
    "    \n",
    "    characters_list = list(lower_case + upper_slice + special_slice + digits_slice)\n",
    "    return characters_list"
   ]
  },
  {
   "cell_type": "code",
   "execution_count": 26,
   "metadata": {},
   "outputs": [],
   "source": [
    "characters_list = characters_generator(num_upper, num_special, num_digits)"
   ]
  },
  {
   "cell_type": "code",
   "execution_count": 227,
   "metadata": {},
   "outputs": [],
   "source": [
    "password = []\n",
    "def password_generator():\n",
    "    try:\n",
    "        while len(password) < pw_length:\n",
    "            characters_list = characters_generator(num_upper, num_special, num_digits)\n",
    "            randomize_characters(characters_list)\n",
    "            variable = characters_list.pop()\n",
    "            password.append(variable)\n",
    "            characters_list.append(variable)\n",
    "            return password\n",
    "            continue\n",
    "    except: \n",
    "        print(\"There's an error!\")"
   ]
  },
  {
   "cell_type": "code",
   "execution_count": 616,
   "metadata": {},
   "outputs": [
    {
     "data": {
      "text/plain": [
       "[]"
      ]
     },
     "execution_count": 616,
     "metadata": {},
     "output_type": "execute_result"
    }
   ],
   "source": [
    "prelim_password_list = []\n",
    "prelim_password_list"
   ]
  },
  {
   "cell_type": "code",
   "execution_count": 338,
   "metadata": {},
   "outputs": [
    {
     "data": {
      "text/plain": [
       "'not working copy\\ndef password_generator():\\n    while len(password_list) < pw_length:\\n        try:\\n            characters_list = characters_generator(num_upper, num_special, num_digits)\\n            randomize_characters(characters_list)\\n            variable = characters_list.pop()\\n            password_list.append(variable)\\n            characters_list.append(variable)\\n            return password_list\\n            continue\\n        except: \\n            print(\"There\\'s an error!\")\\n'"
      ]
     },
     "execution_count": 338,
     "metadata": {},
     "output_type": "execute_result"
    }
   ],
   "source": [
    "\"\"\"not working copy\n",
    "def password_generator():\n",
    "    while len(password_list) < pw_length:\n",
    "        try:\n",
    "            characters_list = characters_generator(num_upper, num_special, num_digits)\n",
    "            randomize_characters(characters_list)\n",
    "            variable = characters_list.pop()\n",
    "            password_list.append(variable)\n",
    "            characters_list.append(variable)\n",
    "            return password_list\n",
    "            continue\n",
    "        except: \n",
    "            print(\"There's an error!\")\n",
    "\"\"\""
   ]
  },
  {
   "cell_type": "code",
   "execution_count": 617,
   "metadata": {},
   "outputs": [],
   "source": [
    "def preliminary_password():\n",
    "    while True:\n",
    "        if len(prelim_password_list) < pw_length:\n",
    "            try:\n",
    "                characters_list = characters_generator(num_upper, num_special, num_digits)\n",
    "                randomize_characters(characters_list)\n",
    "                variable = characters_list.pop()\n",
    "                prelim_password_list.append(variable)\n",
    "                characters_list.append(variable)\n",
    "                return prelim_password_list\n",
    "            except: \n",
    "                print(\"There's an error in preliminary_password!\")\n",
    "                break\n",
    "        else:\n",
    "            print(f\"\"\"Error preliminary_password:\n",
    "                  You limited your password to {pw_length} characters!\"\"\")\n",
    "            break"
   ]
  },
  {
   "cell_type": "code",
   "execution_count": 618,
   "metadata": {},
   "outputs": [],
   "source": [
    "def generate_prelim_password(prelim_password_list):\n",
    "    while True:\n",
    "        if len(prelim_password_list) < pw_length:\n",
    "            try:\n",
    "                for i in range(0, pw_length):\n",
    "                    prelim_password_list = preliminary_password()\n",
    "                return prelim_password_list\n",
    "            except:\n",
    "                print(\"There's an error in generate_prelim_password!\")\n",
    "                break\n",
    "        else: \n",
    "            print(f\"\"\"Error generate_prelim_password: \n",
    "                You limited your password to {pw_length} characters!\"\"\")\n",
    "            break"
   ]
  },
  {
   "cell_type": "code",
   "execution_count": 619,
   "metadata": {},
   "outputs": [
    {
     "data": {
      "text/plain": [
       "list"
      ]
     },
     "execution_count": 619,
     "metadata": {},
     "output_type": "execute_result"
    }
   ],
   "source": [
    "type(prelim_password_list)"
   ]
  },
  {
   "cell_type": "code",
   "execution_count": 620,
   "metadata": {},
   "outputs": [
    {
     "data": {
      "text/plain": [
       "[]"
      ]
     },
     "execution_count": 620,
     "metadata": {},
     "output_type": "execute_result"
    }
   ],
   "source": [
    "prelim_password_list"
   ]
  },
  {
   "cell_type": "code",
   "execution_count": 621,
   "metadata": {},
   "outputs": [
    {
     "data": {
      "text/plain": [
       "['d', 't', 'n', '~', 'm', 'x', 'v', 'l', 'j', 'p']"
      ]
     },
     "execution_count": 621,
     "metadata": {},
     "output_type": "execute_result"
    }
   ],
   "source": [
    "# Generate a preliminary password list using user inputs\n",
    "prelim_password_list = generate_prelim_password(prelim_password_list)\n",
    "prelim_password_list"
   ]
  },
  {
   "cell_type": "code",
   "execution_count": 590,
   "metadata": {},
   "outputs": [
    {
     "name": "stdout",
     "output_type": "stream",
     "text": [
      "zpwqym*ihc\n"
     ]
    }
   ],
   "source": [
    "# Combine password_list elements into a string. \n",
    "password_str = \"\".join(password)\n",
    "print(password_str)"
   ]
  },
  {
   "cell_type": "code",
   "execution_count": 436,
   "metadata": {},
   "outputs": [],
   "source": [
    "password_generator()"
   ]
  },
  {
   "cell_type": "code",
   "execution_count": 187,
   "metadata": {
    "collapsed": true
   },
   "outputs": [
    {
     "data": {
      "text/plain": [
       "['h',\n",
       " 'r',\n",
       " 'y',\n",
       " 'q',\n",
       " 'x',\n",
       " 'e',\n",
       " 'u',\n",
       " 'b',\n",
       " 'k',\n",
       " 'j',\n",
       " 'i',\n",
       " 'w',\n",
       " 's',\n",
       " 't',\n",
       " 'c',\n",
       " 'm',\n",
       " 'z',\n",
       " 'l',\n",
       " 'v',\n",
       " 'p',\n",
       " 'o',\n",
       " 'a',\n",
       " 'g',\n",
       " 'f',\n",
       " 'n',\n",
       " 'd',\n",
       " 'W',\n",
       " '[',\n",
       " '1']"
      ]
     },
     "execution_count": 187,
     "metadata": {},
     "output_type": "execute_result"
    }
   ],
   "source": [
    "characters_list = characters_generator(num_upper, num_special, num_digits)\n",
    "characters_list"
   ]
  },
  {
   "cell_type": "code",
   "execution_count": 188,
   "metadata": {
    "collapsed": true
   },
   "outputs": [
    {
     "data": {
      "text/plain": [
       "['e',\n",
       " 'h',\n",
       " 'W',\n",
       " 'r',\n",
       " 'q',\n",
       " 't',\n",
       " 'l',\n",
       " '[',\n",
       " 'y',\n",
       " 'b',\n",
       " 'x',\n",
       " 'w',\n",
       " 'f',\n",
       " 'p',\n",
       " 'c',\n",
       " 'n',\n",
       " 'v',\n",
       " 'd',\n",
       " 'a',\n",
       " 'i',\n",
       " 'j',\n",
       " 'o',\n",
       " 'k',\n",
       " 'z',\n",
       " 'm',\n",
       " '1',\n",
       " 'u',\n",
       " 'g',\n",
       " 's']"
      ]
     },
     "execution_count": 188,
     "metadata": {},
     "output_type": "execute_result"
    }
   ],
   "source": [
    "randomize_characters(characters_list)\n",
    "characters_list"
   ]
  },
  {
   "cell_type": "code",
   "execution_count": 189,
   "metadata": {
    "collapsed": true
   },
   "outputs": [
    {
     "data": {
      "text/plain": [
       "'s'"
      ]
     },
     "execution_count": 189,
     "metadata": {},
     "output_type": "execute_result"
    }
   ],
   "source": [
    "variable = characters_list.pop()\n",
    "variable"
   ]
  },
  {
   "cell_type": "code",
   "execution_count": 190,
   "metadata": {
    "collapsed": true
   },
   "outputs": [
    {
     "data": {
      "text/plain": [
       "['e',\n",
       " 'h',\n",
       " 'W',\n",
       " 'r',\n",
       " 'q',\n",
       " 't',\n",
       " 'l',\n",
       " '[',\n",
       " 'y',\n",
       " 'b',\n",
       " 'x',\n",
       " 'w',\n",
       " 'f',\n",
       " 'p',\n",
       " 'c',\n",
       " 'n',\n",
       " 'v',\n",
       " 'd',\n",
       " 'a',\n",
       " 'i',\n",
       " 'j',\n",
       " 'o',\n",
       " 'k',\n",
       " 'z',\n",
       " 'm',\n",
       " '1',\n",
       " 'u',\n",
       " 'g']"
      ]
     },
     "execution_count": 190,
     "metadata": {},
     "output_type": "execute_result"
    }
   ],
   "source": [
    "characters_list"
   ]
  },
  {
   "cell_type": "code",
   "execution_count": 191,
   "metadata": {
    "collapsed": true
   },
   "outputs": [
    {
     "data": {
      "text/plain": [
       "['6', 'b', 's']"
      ]
     },
     "execution_count": 191,
     "metadata": {},
     "output_type": "execute_result"
    }
   ],
   "source": [
    "password_list.append(variable)\n",
    "password_list"
   ]
  },
  {
   "cell_type": "code",
   "execution_count": 192,
   "metadata": {
    "collapsed": true
   },
   "outputs": [
    {
     "data": {
      "text/plain": [
       "['e',\n",
       " 'h',\n",
       " 'W',\n",
       " 'r',\n",
       " 'q',\n",
       " 't',\n",
       " 'l',\n",
       " '[',\n",
       " 'y',\n",
       " 'b',\n",
       " 'x',\n",
       " 'w',\n",
       " 'f',\n",
       " 'p',\n",
       " 'c',\n",
       " 'n',\n",
       " 'v',\n",
       " 'd',\n",
       " 'a',\n",
       " 'i',\n",
       " 'j',\n",
       " 'o',\n",
       " 'k',\n",
       " 'z',\n",
       " 'm',\n",
       " '1',\n",
       " 'u',\n",
       " 'g',\n",
       " 's']"
      ]
     },
     "execution_count": 192,
     "metadata": {},
     "output_type": "execute_result"
    }
   ],
   "source": [
    "characters_list.append(variable)\n",
    "characters_list"
   ]
  },
  {
   "cell_type": "code",
   "execution_count": null,
   "metadata": {},
   "outputs": [],
   "source": []
  },
  {
   "cell_type": "code",
   "execution_count": 173,
   "metadata": {},
   "outputs": [],
   "source": [
    "\"\"\"\n",
    "not working copy\n",
    "\n",
    "def password_auto():\n",
    "    for i in range(0, pw_length):\n",
    "        password_list = password_generator()\n",
    "    yield password_list\n",
    "\"\"\""
   ]
  },
  {
   "cell_type": "code",
   "execution_count": 174,
   "metadata": {},
   "outputs": [
    {
     "data": {
      "text/plain": [
       "[]"
      ]
     },
     "execution_count": 174,
     "metadata": {},
     "output_type": "execute_result"
    }
   ],
   "source": [
    "password_list"
   ]
  },
  {
   "cell_type": "code",
   "execution_count": 134,
   "metadata": {},
   "outputs": [
    {
     "name": "stdout",
     "output_type": "stream",
     "text": [
      "utovknino9\n"
     ]
    }
   ],
   "source": [
    "password_str = \"\".join(password)\n",
    "print(password_str)"
   ]
  },
  {
   "cell_type": "code",
   "execution_count": 96,
   "metadata": {},
   "outputs": [],
   "source": [
    "password_generator()"
   ]
  },
  {
   "cell_type": "code",
   "execution_count": null,
   "metadata": {},
   "outputs": [],
   "source": [
    "\"\"\" \n",
    "Need to create a password_character_check(password) function to replace password characters\n",
    "like special, digits, and upper characters, that remain in the password but occur more or less than\n",
    "the user specified number. These characters will be replaced with a random lower case character.\n",
    "I need to create three intersections. Create a new list of all characters passed user input criteria\n",
    "using slicing. Then, remove those characters from the password list with .remove(). Next, randomize lower\n",
    "case letters. Fill in the remaining letters of password with lower case letters. Finally, finish\n",
    "function by randomizing the password characters again. \"\"\""
   ]
  },
  {
   "cell_type": "code",
   "execution_count": 624,
   "metadata": {},
   "outputs": [
    {
     "data": {
      "text/plain": [
       "['a', 'e', 'b', 'c', 'f']"
      ]
     },
     "execution_count": 624,
     "metadata": {},
     "output_type": "execute_result"
    }
   ],
   "source": [
    "testing = \"a b c d e f\".split()\n",
    "jasmine = \"a 2 e b c 4 f\".split()\n",
    "intersect_test_jas = [i for i in jasmine if i in testing]\n",
    "intersect_test_jas\n"
   ]
  },
  {
   "cell_type": "code",
   "execution_count": 625,
   "metadata": {},
   "outputs": [
    {
     "data": {
      "text/plain": [
       "['e', 'b', 'c', 'f']"
      ]
     },
     "execution_count": 625,
     "metadata": {},
     "output_type": "execute_result"
    }
   ],
   "source": [
    "extra_elem = intersect_test_jas[1:]\n",
    "extra_elem"
   ]
  },
  {
   "cell_type": "code",
   "execution_count": 639,
   "metadata": {},
   "outputs": [],
   "source": [
    "for i in extra_elem:\n",
    "    extra_elem.remove(i)"
   ]
  },
  {
   "cell_type": "code",
   "execution_count": 640,
   "metadata": {},
   "outputs": [
    {
     "data": {
      "text/plain": [
       "['b', 'f']"
      ]
     },
     "execution_count": 640,
     "metadata": {},
     "output_type": "execute_result"
    }
   ],
   "source": [
    "extra_elem"
   ]
  },
  {
   "cell_type": "code",
   "execution_count": 670,
   "metadata": {},
   "outputs": [],
   "source": [
    "jasmine = \"f 3 4 5 A B C ! @ #\".split()\n",
    "leslie = \"d t f a g v d s f g\".split()"
   ]
  },
  {
   "cell_type": "code",
   "execution_count": 684,
   "metadata": {},
   "outputs": [
    {
     "data": {
      "text/plain": [
       "['d', 't', 'f']"
      ]
     },
     "execution_count": 684,
     "metadata": {},
     "output_type": "execute_result"
    }
   ],
   "source": [
    "leslie[:3]"
   ]
  },
  {
   "cell_type": "code",
   "execution_count": 623,
   "metadata": {},
   "outputs": [
    {
     "name": "stdout",
     "output_type": "stream",
     "text": [
      "['d', 't', 'n', '~', 'm', 'x', 'v', 'l', 'j', 'p', 'Y']\n"
     ]
    }
   ],
   "source": [
    "\"\"\"\n",
    "rough draft\n",
    "\n",
    "\n",
    "\n",
    "intersection_upper = [char for char in prelim_password_list if char in upper_case]\n",
    "length_intersect_upper = len(intersection_upper)\n",
    "if length_intersect_upper < num_upper:\n",
    "    difference = abs(length_intersect_upper - num_upper)\n",
    "    randomize_characters(upper_case)\n",
    "    prelim_password_list.extend(upper_case[:difference])\n",
    "    print(prelim_password_list)\n",
    "    print(\"Added upper case letters!\")\n",
    "elif length_intersect_upper > num_upper:\n",
    "    difference = abs(length_intersect_upper - num_upper)\n",
    "    extra_upper = intersection_upper[num_upper:]\n",
    "    for char in extra_upper:\n",
    "        prelim_password_list.remove(char)\n",
    "    print(prelim_password_list)\n",
    "    print(\"Removed upper case letters!\")\n",
    "    \n",
    "    \n",
    "\"\"\""
   ]
  },
  {
   "cell_type": "code",
   "execution_count": null,
   "metadata": {},
   "outputs": [],
   "source": [
    "\"\"\"\n",
    "Need to create a function that passes a character_set, numb_characters,\n",
    "preliminary_password_list to \n",
    "add characters\n",
    "remove characters\n",
    "\n",
    "\"\"\""
   ]
  },
  {
   "cell_type": "code",
   "execution_count": null,
   "metadata": {},
   "outputs": [],
   "source": [
    "def add_characters(characters_set, num_characters, prelim_password_list):\n",
    "    pass\n"
   ]
  },
  {
   "cell_type": "code",
   "execution_count": 764,
   "metadata": {},
   "outputs": [],
   "source": [
    "# editing copy\n",
    "def password_character_check(characters_set, num_characters, prelim_password_list):\n",
    "    # Note: characters_set <=> upper_case, special, or digits\n",
    "    # Note: num_characters <=> num_upper, num_special, num_digits\n",
    "    # Note: prelim_password_list <=> prelim_password_list from generate_prelim_password\n",
    "    \n",
    "    \n",
    "    # Find the number of extra characters in prelim_password_list\n",
    "    intersection_char = [char for char in prelim_password_list if char in characters_set]\n",
    "    length_intersect_char = len(intersection_char)\n",
    "    difference_char = abs(length_intersect_char - num_upper)\n",
    "    \n",
    "    intersection_lower = [char for char in prelim_password_list if char in lower_case]\n",
    "    \n",
    "    if length_intersect_char < num_characters: # Check against user input\n",
    "        randomize_characters(characters_set) \n",
    "        prelim_password_list.extend(characters_set[:difference_char]) # Add extra char to prelim_password_list\n",
    "        extra_lower = intersection_lower[:difference_char] # Find extra lower case characters\n",
    "        for char in extra_lower:\n",
    "            prelim_password_list.remove(char) # Remove extra lower case characters\n",
    "#         print(prelim_password_list)\n",
    "        print(\"Added characters! Removed lower case letters!\")\n",
    "        return prelim_password_list\n",
    "    elif length_intersect_char > num_characters:  # Check against user input\n",
    "        randomize_characters(lower_case)\n",
    "        extra_char = intersection_char[num_characters:] # Find extra characters\n",
    "        for char in extra_char:\n",
    "            prelim_password_list.remove(char) # Remove extra characters\n",
    "        prelim_password_list.extend(lower_case[:difference_char]) # Add extra lower case to prelim_password_list\n",
    "#         print(prelim_password_list)\n",
    "        print(\"Removed characters! Added lower case letters!\")\n",
    "        return prelim_password_list\n",
    "    else:\n",
    "        pass"
   ]
  },
  {
   "cell_type": "code",
   "execution_count": 765,
   "metadata": {},
   "outputs": [],
   "source": [
    "jasmine = \"f 3 4 5 A B C ! @ #\".split()\n",
    "leslie = \"d t f a g v d s f g\".split()"
   ]
  },
  {
   "cell_type": "code",
   "execution_count": 766,
   "metadata": {},
   "outputs": [
    {
     "name": "stdout",
     "output_type": "stream",
     "text": [
      "Removed characters! Added lower case letters!\n"
     ]
    },
    {
     "data": {
      "text/plain": [
       "['f', '3', '4', '5', 'A', '!', '@', '#', 's', 't']"
      ]
     },
     "execution_count": 766,
     "metadata": {},
     "output_type": "execute_result"
    }
   ],
   "source": [
    "password_character_check(upper_case, num_upper, jasmine)"
   ]
  },
  {
   "cell_type": "code",
   "execution_count": 767,
   "metadata": {},
   "outputs": [
    {
     "name": "stdout",
     "output_type": "stream",
     "text": [
      "Added characters! Removed lower case letters!\n"
     ]
    },
    {
     "data": {
      "text/plain": [
       "['t', 'f', 'a', 'g', 'v', 'd', 's', 'f', 'g', 'A']"
      ]
     },
     "execution_count": 767,
     "metadata": {},
     "output_type": "execute_result"
    }
   ],
   "source": [
    "password_character_check(upper_case, num_upper, leslie)"
   ]
  },
  {
   "cell_type": "code",
   "execution_count": 768,
   "metadata": {},
   "outputs": [
    {
     "name": "stdout",
     "output_type": "stream",
     "text": [
      "Removed characters! Added lower case letters!\n"
     ]
    },
    {
     "data": {
      "text/plain": [
       "['f', '3', '4', '5', 'A', '!', 's', 't', 'k', 'l']"
      ]
     },
     "execution_count": 768,
     "metadata": {},
     "output_type": "execute_result"
    }
   ],
   "source": [
    "password_character_check(special, num_special, jasmine)"
   ]
  },
  {
   "cell_type": "code",
   "execution_count": 769,
   "metadata": {},
   "outputs": [
    {
     "name": "stdout",
     "output_type": "stream",
     "text": [
      "Added characters! Removed lower case letters!\n"
     ]
    },
    {
     "data": {
      "text/plain": [
       "['f', 'a', 'g', 'v', 'd', 's', 'f', 'g', 'A', ',']"
      ]
     },
     "execution_count": 769,
     "metadata": {},
     "output_type": "execute_result"
    }
   ],
   "source": [
    "password_character_check(special, num_special, leslie)"
   ]
  },
  {
   "cell_type": "code",
   "execution_count": 770,
   "metadata": {},
   "outputs": [
    {
     "name": "stdout",
     "output_type": "stream",
     "text": [
      "Removed characters! Added lower case letters!\n"
     ]
    },
    {
     "data": {
      "text/plain": [
       "['f', '3', 'A', '!', 's', 't', 'k', 'l', 'n', 'j']"
      ]
     },
     "execution_count": 770,
     "metadata": {},
     "output_type": "execute_result"
    }
   ],
   "source": [
    "password_character_check(digits, num_digits, jasmine)"
   ]
  },
  {
   "cell_type": "code",
   "execution_count": 771,
   "metadata": {},
   "outputs": [
    {
     "name": "stdout",
     "output_type": "stream",
     "text": [
      "Added characters! Removed lower case letters!\n"
     ]
    },
    {
     "data": {
      "text/plain": [
       "['a', 'g', 'v', 'd', 's', 'f', 'g', 'A', ',', '8']"
      ]
     },
     "execution_count": 771,
     "metadata": {},
     "output_type": "execute_result"
    }
   ],
   "source": [
    "password_character_check(digits, num_digits, leslie)"
   ]
  },
  {
   "cell_type": "code",
   "execution_count": null,
   "metadata": {},
   "outputs": [],
   "source": []
  },
  {
   "cell_type": "code",
   "execution_count": 699,
   "metadata": {},
   "outputs": [],
   "source": [
    "#Working copy\n",
    "def password_upper_check(prelim_password_list):\n",
    "    # Find the number of extra upper_case letters in prelim_password_list\n",
    "    intersection_upper = [char for char in prelim_password_list if char in upper_case]\n",
    "    length_intersect_upper = len(intersection_upper)\n",
    "    difference_upper = abs(length_intersect_upper - num_upper)\n",
    "    \n",
    "    intersection_lower = [char for char in prelim_password_list if char in lower_case]\n",
    "#     length_intersect_lower = len(intersection_lower)\n",
    "#     difference_lower = abs(length_intersect_lower)\n",
    "    if length_intersect_upper < num_upper: # Check against user input\n",
    "        randomize_characters(upper_case) \n",
    "        prelim_password_list.extend(upper_case[:difference_upper]) # Add extra upper to prelim_password_list\n",
    "        extra_lower = intersection_lower[:difference_upper] # Find extra lower case characters\n",
    "        for char in extra_lower:\n",
    "            prelim_password_list.remove(char) # Remove extra lower case characters\n",
    "        print(prelim_password_list)\n",
    "        return prelim_password_list\n",
    "        print(\"Added upper case letters! Removed lower case letters!\")\n",
    "    elif length_intersect_upper > num_upper:  # Check against user input\n",
    "        extra_upper = intersection_upper[num_upper:] # Find extra upper case characters\n",
    "        for char in extra_upper:\n",
    "            prelim_password_list.remove(char) # Remove extra upper case characters\n",
    "        prelim_password_list.extend(lower_case[:difference_upper]) # Add extra lower case to prelim_password_list\n",
    "        print(prelim_password_list)\n",
    "        return prelim_password_list\n",
    "        print(\"Removed upper case letters! Added lower case letters!\")\n",
    "    else:\n",
    "        pass"
   ]
  },
  {
   "cell_type": "code",
   "execution_count": 704,
   "metadata": {},
   "outputs": [],
   "source": [
    "jasmine = \"f 3 4 5 A B C ! @ #\".split()\n",
    "leslie = \"d t f a g v d s f g\".split()"
   ]
  },
  {
   "cell_type": "code",
   "execution_count": 705,
   "metadata": {},
   "outputs": [
    {
     "name": "stdout",
     "output_type": "stream",
     "text": [
      "['f', '3', '4', '5', 'A', '!', '@', '#', 'x', 'u']\n",
      "Removed upper case letters! Added lower case letters!\n"
     ]
    }
   ],
   "source": [
    "password_upper_check(jasmine)"
   ]
  },
  {
   "cell_type": "code",
   "execution_count": 706,
   "metadata": {},
   "outputs": [
    {
     "name": "stdout",
     "output_type": "stream",
     "text": [
      "['t', 'f', 'a', 'g', 'v', 'd', 's', 'f', 'g', 'K']\n",
      "Added upper case letters! Removed lower case letters!\n"
     ]
    }
   ],
   "source": [
    "password_upper_check(leslie)"
   ]
  },
  {
   "cell_type": "code",
   "execution_count": 569,
   "metadata": {},
   "outputs": [
    {
     "ename": "IndentationError",
     "evalue": "expected an indented block (<ipython-input-569-410c5ddd9586>, line 3)",
     "output_type": "error",
     "traceback": [
      "\u001b[1;36m  File \u001b[1;32m\"<ipython-input-569-410c5ddd9586>\"\u001b[1;36m, line \u001b[1;32m3\u001b[0m\n\u001b[1;33m    intersection_upper = [char for char in prelim_password_list if char in upper_case]\u001b[0m\n\u001b[1;37m                     ^\u001b[0m\n\u001b[1;31mIndentationError\u001b[0m\u001b[1;31m:\u001b[0m expected an indented block\n"
     ]
    }
   ],
   "source": [
    "def password_character_check(prelim_password_list):\n",
    "\n",
    "    intersection_upper = [char for char in prelim_password_list if char in upper_case]\n",
    "    length_intersect_upper = len(intersection_upper)\n",
    "    if length_intersect_upper < num_upper:\n",
    "        difference = abs(length_intersect_upper - num_upper)\n",
    "        randomize_characters(upper)\n",
    "        prelim_password_list.extend(upper_case[:difference])\n",
    "        \n",
    "        \n",
    "    elif length_intersect_upper > num_upper:\n",
    "        \n",
    "    \n",
    "    else:\n",
    "        pass\n",
    "        \n",
    "    \n",
    "    \n",
    "    intersection_special = [char for char in prelim_password_list if char in special]\n",
    "    length_intersect_special = len(intersection_special)\n",
    "    \n",
    "    intersection_digits = [char for char in prelim_password_list if char in digits]\n",
    "    length_intersect_digits = len(intersection_digits)\n",
    "\n",
    "\n",
    " \n",
    "    [i for i in password if i in characters]\n",
    "    "
   ]
  },
  {
   "cell_type": "code",
   "execution_count": 63,
   "metadata": {},
   "outputs": [
    {
     "ename": "TypeError",
     "evalue": "'int' object is not iterable",
     "output_type": "error",
     "traceback": [
      "\u001b[1;31m---------------------------------------------------------------------------\u001b[0m",
      "\u001b[1;31mTypeError\u001b[0m                                 Traceback (most recent call last)",
      "\u001b[1;32m<ipython-input-63-6123f0b6ff3b>\u001b[0m in \u001b[0;36m<module>\u001b[1;34m\u001b[0m\n\u001b[1;32m----> 1\u001b[1;33m \u001b[1;32mfor\u001b[0m \u001b[0mi\u001b[0m \u001b[1;32min\u001b[0m \u001b[0mpw_length\u001b[0m\u001b[1;33m:\u001b[0m\u001b[1;33m\u001b[0m\u001b[1;33m\u001b[0m\u001b[0m\n\u001b[0m\u001b[0;32m      2\u001b[0m     \u001b[0mpassword_generator\u001b[0m\u001b[1;33m\u001b[0m\u001b[1;33m\u001b[0m\u001b[0m\n\u001b[0;32m      3\u001b[0m     \u001b[0mprint\u001b[0m\u001b[1;33m(\u001b[0m\u001b[0mpassword\u001b[0m\u001b[1;33m)\u001b[0m\u001b[1;33m\u001b[0m\u001b[1;33m\u001b[0m\u001b[0m\n",
      "\u001b[1;31mTypeError\u001b[0m: 'int' object is not iterable"
     ]
    }
   ],
   "source": [
    "for i in pw_length:\n",
    "    password_generator\n",
    "    print(password)"
   ]
  },
  {
   "cell_type": "code",
   "execution_count": 48,
   "metadata": {},
   "outputs": [],
   "source": [
    "characters_list = character_generator(num_upper, num_special, num_digits)"
   ]
  },
  {
   "cell_type": "code",
   "execution_count": 49,
   "metadata": {},
   "outputs": [],
   "source": [
    "variable = characters_list.pop()"
   ]
  },
  {
   "cell_type": "code",
   "execution_count": 50,
   "metadata": {},
   "outputs": [
    {
     "data": {
      "text/plain": [
       "'3'"
      ]
     },
     "execution_count": 50,
     "metadata": {},
     "output_type": "execute_result"
    }
   ],
   "source": [
    "variable"
   ]
  },
  {
   "cell_type": "code",
   "execution_count": 55,
   "metadata": {},
   "outputs": [],
   "source": [
    "password = []"
   ]
  },
  {
   "cell_type": "code",
   "execution_count": 60,
   "metadata": {},
   "outputs": [],
   "source": [
    "password.append(variable)"
   ]
  },
  {
   "cell_type": "code",
   "execution_count": 61,
   "metadata": {},
   "outputs": [
    {
     "data": {
      "text/plain": [
       "['3', '3', '3']"
      ]
     },
     "execution_count": 61,
     "metadata": {},
     "output_type": "execute_result"
    }
   ],
   "source": [
    "password"
   ]
  },
  {
   "cell_type": "code",
   "execution_count": 38,
   "metadata": {},
   "outputs": [
    {
     "data": {
      "text/plain": [
       "['q',\n",
       " 'k',\n",
       " 'y',\n",
       " 'h',\n",
       " 'u',\n",
       " 'j',\n",
       " 'z',\n",
       " 'd',\n",
       " 'f',\n",
       " 'x',\n",
       " 'n',\n",
       " 'w',\n",
       " 'e',\n",
       " 'c',\n",
       " 's',\n",
       " 'i',\n",
       " 'l',\n",
       " 'o',\n",
       " 'v',\n",
       " 'r',\n",
       " 't',\n",
       " 'm',\n",
       " 'a',\n",
       " 'p',\n",
       " 'g',\n",
       " 'b',\n",
       " 'O',\n",
       " ']',\n",
       " '9']"
      ]
     },
     "execution_count": 38,
     "metadata": {},
     "output_type": "execute_result"
    }
   ],
   "source": [
    "characters_list"
   ]
  },
  {
   "cell_type": "code",
   "execution_count": null,
   "metadata": {},
   "outputs": [],
   "source": []
  },
  {
   "cell_type": "code",
   "execution_count": null,
   "metadata": {},
   "outputs": [],
   "source": []
  },
  {
   "cell_type": "code",
   "execution_count": null,
   "metadata": {},
   "outputs": [],
   "source": [
    "# Lists of characters for passwords\n",
    "letters = 'a b c d e f g h i j k l m n o p q r s t u v w x y z'\n",
    "lower_case = letters.split()\n",
    "upper_case = letters.upper().split()\n",
    "digits = \"0 1 2 3 4 5 6 7 8 9\".split()\n",
    "special = \"\"\"! \" # $ % & ' ( ) * + , - . / : ; < = > ? @ [ \\ ] ^ _ ` { | } ~\"\"\".split()\n",
    "characters_list = list(lower_case + upper_case + digits + special)\n",
    "\n",
    "random.shuffle(characters_list)\n",
    "\n",
    "characters_list\n",
    "\n",
    "# Shuffle characters_list and set as a new variable\n",
    "randomize_characters(characters_list)\n",
    "random_char = characters_list\n",
    "\n",
    "print(random_char)"
   ]
  },
  {
   "cell_type": "code",
   "execution_count": 17,
   "metadata": {},
   "outputs": [
    {
     "name": "stdout",
     "output_type": "stream",
     "text": [
      "\n",
      "How long do you want your password to be?\n",
      " 10\n",
      "Thank you. Your password length is 10.\n",
      "\n",
      "Would you like to include upper case letters? Y or N? \n",
      "y\n",
      "\n",
      "How many upper case letters would you like to have in your password?\n",
      "1\n",
      "Thank you. You will have 1 uppercase letters in your password.\n",
      "\n",
      "Would you like to include special characters in your password? Y or N?\n",
      "y\n",
      "\n",
      "How many special characters would you like to include in your password?\n",
      "1\n",
      "Thank you. You will have 1 special characters in your password.\n",
      "\n",
      "Would you like to include numbers in your password? Y or N?\n",
      "y\n",
      "\n",
      "How many numbers would you like to include in your password?\n",
      "1\n",
      "Thank you. You will have 1 numbers in your password.\n"
     ]
    }
   ],
   "source": []
  },
  {
   "cell_type": "code",
   "execution_count": 21,
   "metadata": {},
   "outputs": [
    {
     "name": "stdout",
     "output_type": "stream",
     "text": [
      "o1}=NE!Qge\n"
     ]
    }
   ],
   "source": [
    "password = print_password(random_char)\n",
    "print(password)"
   ]
  },
  {
   "cell_type": "code",
   "execution_count": 22,
   "metadata": {},
   "outputs": [
    {
     "data": {
      "text/plain": [
       "10"
      ]
     },
     "execution_count": 22,
     "metadata": {},
     "output_type": "execute_result"
    }
   ],
   "source": [
    "len(password)"
   ]
  },
  {
   "cell_type": "code",
   "execution_count": 23,
   "metadata": {},
   "outputs": [
    {
     "ename": "NameError",
     "evalue": "name 'new' is not defined",
     "output_type": "error",
     "traceback": [
      "\u001b[1;31m---------------------------------------------------------------------------\u001b[0m",
      "\u001b[1;31mNameError\u001b[0m                                 Traceback (most recent call last)",
      "\u001b[1;32m<ipython-input-23-389cc6b7ae5a>\u001b[0m in \u001b[0;36m<module>\u001b[1;34m\u001b[0m\n\u001b[1;32m----> 1\u001b[1;33m \u001b[0mnew\u001b[0m\u001b[1;33m\u001b[0m\u001b[1;33m\u001b[0m\u001b[0m\n\u001b[0m",
      "\u001b[1;31mNameError\u001b[0m: name 'new' is not defined"
     ]
    }
   ],
   "source": [
    "new"
   ]
  },
  {
   "cell_type": "code",
   "execution_count": 24,
   "metadata": {},
   "outputs": [
    {
     "ename": "NameError",
     "evalue": "name 'new' is not defined",
     "output_type": "error",
     "traceback": [
      "\u001b[1;31m---------------------------------------------------------------------------\u001b[0m",
      "\u001b[1;31mNameError\u001b[0m                                 Traceback (most recent call last)",
      "\u001b[1;32m<ipython-input-24-a5979d1b7ed6>\u001b[0m in \u001b[0;36m<module>\u001b[1;34m\u001b[0m\n\u001b[1;32m----> 1\u001b[1;33m \u001b[0mpassword\u001b[0m \u001b[1;33m=\u001b[0m \u001b[1;34m\"\"\u001b[0m\u001b[1;33m.\u001b[0m\u001b[0mjoin\u001b[0m\u001b[1;33m(\u001b[0m\u001b[0mnew\u001b[0m\u001b[1;33m)\u001b[0m\u001b[1;33m\u001b[0m\u001b[1;33m\u001b[0m\u001b[0m\n\u001b[0m",
      "\u001b[1;31mNameError\u001b[0m: name 'new' is not defined"
     ]
    }
   ],
   "source": [
    "password = \"\".join(new)"
   ]
  },
  {
   "cell_type": "code",
   "execution_count": 25,
   "metadata": {},
   "outputs": [
    {
     "name": "stdout",
     "output_type": "stream",
     "text": [
      "o1}=NE!Qge\n"
     ]
    }
   ],
   "source": [
    "print(password)"
   ]
  },
  {
   "cell_type": "code",
   "execution_count": 48,
   "metadata": {},
   "outputs": [
    {
     "data": {
      "text/plain": [
       "True"
      ]
     },
     "execution_count": 48,
     "metadata": {},
     "output_type": "execute_result"
    }
   ],
   "source": [
    "any(i in password for i in characters)"
   ]
  },
  {
   "cell_type": "code",
   "execution_count": 49,
   "metadata": {},
   "outputs": [
    {
     "data": {
      "text/plain": [
       "['/', ',', '-', 'u', '\"', 'J', 'v', 'P', 'm']"
      ]
     },
     "execution_count": 49,
     "metadata": {},
     "output_type": "execute_result"
    }
   ],
   "source": [
    "[i for i in password if i in characters]"
   ]
  },
  {
   "cell_type": "code",
   "execution_count": 50,
   "metadata": {},
   "outputs": [
    {
     "data": {
      "text/plain": [
       "{'\"', ',', '-', '/', 'J', 'P', 'm', 'u', 'v'}"
      ]
     },
     "execution_count": 50,
     "metadata": {},
     "output_type": "execute_result"
    }
   ],
   "source": [
    "s1 = set(password)\n",
    "s2 = set(characters)\n",
    "s1.intersection(s2)"
   ]
  },
  {
   "cell_type": "code",
   "execution_count": 57,
   "metadata": {},
   "outputs": [],
   "source": [
    "test = \"1 3 5 g a 7 J P $ @ ) *\".replace(\" \", \"\")"
   ]
  },
  {
   "cell_type": "code",
   "execution_count": 58,
   "metadata": {},
   "outputs": [
    {
     "name": "stdout",
     "output_type": "stream",
     "text": [
      "135ga7JP$@)*\n"
     ]
    }
   ],
   "source": [
    "print(test)"
   ]
  },
  {
   "cell_type": "code",
   "execution_count": 60,
   "metadata": {},
   "outputs": [],
   "source": [
    "intersection = [i for i in password if i in test]"
   ]
  },
  {
   "cell_type": "code",
   "execution_count": 62,
   "metadata": {},
   "outputs": [
    {
     "data": {
      "text/plain": [
       "2"
      ]
     },
     "execution_count": 62,
     "metadata": {},
     "output_type": "execute_result"
    }
   ],
   "source": [
    "len(intersection)"
   ]
  },
  {
   "cell_type": "code",
   "execution_count": 63,
   "metadata": {},
   "outputs": [
    {
     "data": {
      "text/plain": [
       "'P'"
      ]
     },
     "execution_count": 63,
     "metadata": {},
     "output_type": "execute_result"
    }
   ],
   "source": [
    "intersection.pop()"
   ]
  },
  {
   "cell_type": "code",
   "execution_count": 64,
   "metadata": {},
   "outputs": [
    {
     "data": {
      "text/plain": [
       "['J']"
      ]
     },
     "execution_count": 64,
     "metadata": {},
     "output_type": "execute_result"
    }
   ],
   "source": [
    "intersection"
   ]
  },
  {
   "cell_type": "code",
   "execution_count": null,
   "metadata": {},
   "outputs": [],
   "source": [
    "#while length of intersection is less than user input, pop"
   ]
  },
  {
   "cell_type": "code",
   "execution_count": null,
   "metadata": {},
   "outputs": [],
   "source": [
    "# append characters from randomize characters. "
   ]
  },
  {
   "cell_type": "code",
   "execution_count": null,
   "metadata": {},
   "outputs": [],
   "source": [
    "# Create a function that checks password with user input (upper)"
   ]
  },
  {
   "cell_type": "code",
   "execution_count": null,
   "metadata": {},
   "outputs": [],
   "source": [
    "# Create a function that checks password with user input (numbers)"
   ]
  },
  {
   "cell_type": "code",
   "execution_count": null,
   "metadata": {},
   "outputs": [],
   "source": [
    "# Create a function that checks password with user input (special)"
   ]
  },
  {
   "cell_type": "code",
   "execution_count": null,
   "metadata": {},
   "outputs": [],
   "source": [
    "# Create a function that allows for repeat characters"
   ]
  },
  {
   "cell_type": "code",
   "execution_count": 107,
   "metadata": {},
   "outputs": [
    {
     "name": "stdout",
     "output_type": "stream",
     "text": [
      "['/', 'W', 't', 'd', 'u', 'R', 'U', 'Y', '?', 'l', 'G', 'V', 'j', 'Q', 'Z', 'K', '2', 'y', 'L', '(', 'v', '}', '\"', 'A', '[', ':', '1', 'g', 'o', 'N', 'e', 'a', 'C', '9', 'E', '\\\\', 'b', '@', '6', '%', 'S', 'B', ')', '0', 'P', '*', 'x', 'r', '>', 'H', 'I', 'J', '`', 'i', '&', 'w', 'T', 'n', ']', '=', 'M', 'f', \"'\", 'c', '8', 'D', 'F', '#', '3', 'k', '5', '7', '~', 'p', ',', '-', '^', '{', 'h', '$', '|', '.', '4', 'O', ';', 'm', '!', 'z', 'X', '<', 'q', '_', 's', '+']\n"
     ]
    }
   ],
   "source": [
    "print(random_char)"
   ]
  },
  {
   "cell_type": "code",
   "execution_count": null,
   "metadata": {},
   "outputs": [],
   "source": [
    "code_to_test = \"\"\"\n",
    "a = range(100000)\n",
    "b = []\n",
    "for i in a:\n",
    "    b.append(i*2)\n",
    "\"\"\"\n",
    "elapsed_time = timeit.timeit(code_to_test, number=100)/100\n",
    "print(elapsed_time)"
   ]
  },
  {
   "cell_type": "code",
   "execution_count": null,
   "metadata": {},
   "outputs": [],
   "source": [
    "\"\"\"\n",
    "New password generator process\n",
    "take user input for letters, digits, special\n",
    "randomize the lists individually\n",
    "splice the first elements using user inputs\n",
    "then combine them into character_list\n",
    "\n",
    "\n",
    "\"\"\""
   ]
  },
  {
   "cell_type": "code",
   "execution_count": null,
   "metadata": {},
   "outputs": [],
   "source": []
  },
  {
   "cell_type": "code",
   "execution_count": null,
   "metadata": {},
   "outputs": [],
   "source": [
    "\"\"\"\n",
    "new process for repeat characters\n",
    "pop\n",
    "shuffle\n",
    "append\n",
    "repeat\n",
    "\n",
    "\"\"\""
   ]
  },
  {
   "cell_type": "code",
   "execution_count": 1,
   "metadata": {},
   "outputs": [
    {
     "ename": "SyntaxError",
     "evalue": "invalid syntax (<ipython-input-1-520ef00db14e>, line 7)",
     "output_type": "error",
     "traceback": [
      "\u001b[1;36m  File \u001b[1;32m\"<ipython-input-1-520ef00db14e>\"\u001b[1;36m, line \u001b[1;32m7\u001b[0m\n\u001b[1;33m    else:\u001b[0m\n\u001b[1;37m       ^\u001b[0m\n\u001b[1;31mSyntaxError\u001b[0m\u001b[1;31m:\u001b[0m invalid syntax\n"
     ]
    }
   ],
   "source": [
    "while len(password) < len(pw_length):\n",
    "    try:\n",
    "        randomize_characters(character_list)\n",
    "        variable = character_list.pop()\n",
    "        password = password + variable\n",
    "        character_list.append(variable)\n",
    "    except: \n",
    "        print(\"There's an error!\")"
   ]
  },
  {
   "cell_type": "code",
   "execution_count": null,
   "metadata": {},
   "outputs": [],
   "source": []
  },
  {
   "cell_type": "code",
   "execution_count": null,
   "metadata": {},
   "outputs": [],
   "source": []
  },
  {
   "cell_type": "code",
   "execution_count": null,
   "metadata": {},
   "outputs": [],
   "source": []
  }
 ],
 "metadata": {
  "kernelspec": {
   "display_name": "Python 3",
   "language": "python",
   "name": "python3"
  },
  "language_info": {
   "codemirror_mode": {
    "name": "ipython",
    "version": 3
   },
   "file_extension": ".py",
   "mimetype": "text/x-python",
   "name": "python",
   "nbconvert_exporter": "python",
   "pygments_lexer": "ipython3",
   "version": "3.7.1"
  }
 },
 "nbformat": 4,
 "nbformat_minor": 2
}
